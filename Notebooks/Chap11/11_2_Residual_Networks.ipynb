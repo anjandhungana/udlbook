{
  "nbformat": 4,
  "nbformat_minor": 0,
  "metadata": {
    "colab": {
      "provenance": [],
      "include_colab_link": true
    },
    "kernelspec": {
      "name": "python3",
      "display_name": "Python 3"
    },
    "language_info": {
      "name": "python"
    }
  },
  "cells": [
    {
      "cell_type": "markdown",
      "metadata": {
        "id": "view-in-github",
        "colab_type": "text"
      },
      "source": [
        "<a href=\"https://colab.research.google.com/github/anjandhungana/udlbook/blob/main/Notebooks/Chap11/11_2_Residual_Networks.ipynb\" target=\"_parent\"><img src=\"https://colab.research.google.com/assets/colab-badge.svg\" alt=\"Open In Colab\"/></a>"
      ]
    },
    {
      "cell_type": "markdown",
      "source": [
        "# **Notebook 11.2: Residual Networks**\n",
        "\n",
        "This notebook adapts the networks for MNIST1D to use residual connections.\n",
        "\n",
        "Work through the cells below, running each cell in turn. In various places you will see the words \"TODO\". Follow the instructions at these places and make predictions about what is going to happen or write code to complete the functions.\n",
        "\n",
        "Contact me at udlbookmail@gmail.com if you find any mistakes or have any suggestions.\n",
        "\n"
      ],
      "metadata": {
        "id": "t9vk9Elugvmi"
      }
    },
    {
      "cell_type": "code",
      "source": [
        "# Run this if you're in a Colab to install MNIST 1D repository\n",
        "!pip install git+https://github.com/greydanus/mnist1d"
      ],
      "metadata": {
        "id": "D5yLObtZCi9J",
        "colab": {
          "base_uri": "https://localhost:8080/"
        },
        "outputId": "47b64199-b22c-40c7-9162-ca336900a381"
      },
      "execution_count": 1,
      "outputs": [
        {
          "output_type": "stream",
          "name": "stdout",
          "text": [
            "Collecting git+https://github.com/greydanus/mnist1d\n",
            "  Cloning https://github.com/greydanus/mnist1d to /tmp/pip-req-build-3597h335\n",
            "  Running command git clone --filter=blob:none --quiet https://github.com/greydanus/mnist1d /tmp/pip-req-build-3597h335\n",
            "  Resolved https://github.com/greydanus/mnist1d to commit 7878d96082abd200c546a07a4101fa90b30fdf7e\n",
            "  Installing build dependencies ... \u001b[?25l\u001b[?25hdone\n",
            "  Getting requirements to build wheel ... \u001b[?25l\u001b[?25hdone\n",
            "  Preparing metadata (pyproject.toml) ... \u001b[?25l\u001b[?25hdone\n",
            "Requirement already satisfied: requests in /usr/local/lib/python3.12/dist-packages (from mnist1d==0.0.2.post16) (2.32.4)\n",
            "Requirement already satisfied: numpy in /usr/local/lib/python3.12/dist-packages (from mnist1d==0.0.2.post16) (2.0.2)\n",
            "Requirement already satisfied: matplotlib in /usr/local/lib/python3.12/dist-packages (from mnist1d==0.0.2.post16) (3.10.0)\n",
            "Requirement already satisfied: scipy in /usr/local/lib/python3.12/dist-packages (from mnist1d==0.0.2.post16) (1.16.2)\n",
            "Requirement already satisfied: contourpy>=1.0.1 in /usr/local/lib/python3.12/dist-packages (from matplotlib->mnist1d==0.0.2.post16) (1.3.3)\n",
            "Requirement already satisfied: cycler>=0.10 in /usr/local/lib/python3.12/dist-packages (from matplotlib->mnist1d==0.0.2.post16) (0.12.1)\n",
            "Requirement already satisfied: fonttools>=4.22.0 in /usr/local/lib/python3.12/dist-packages (from matplotlib->mnist1d==0.0.2.post16) (4.60.1)\n",
            "Requirement already satisfied: kiwisolver>=1.3.1 in /usr/local/lib/python3.12/dist-packages (from matplotlib->mnist1d==0.0.2.post16) (1.4.9)\n",
            "Requirement already satisfied: packaging>=20.0 in /usr/local/lib/python3.12/dist-packages (from matplotlib->mnist1d==0.0.2.post16) (25.0)\n",
            "Requirement already satisfied: pillow>=8 in /usr/local/lib/python3.12/dist-packages (from matplotlib->mnist1d==0.0.2.post16) (11.3.0)\n",
            "Requirement already satisfied: pyparsing>=2.3.1 in /usr/local/lib/python3.12/dist-packages (from matplotlib->mnist1d==0.0.2.post16) (3.2.5)\n",
            "Requirement already satisfied: python-dateutil>=2.7 in /usr/local/lib/python3.12/dist-packages (from matplotlib->mnist1d==0.0.2.post16) (2.9.0.post0)\n",
            "Requirement already satisfied: charset_normalizer<4,>=2 in /usr/local/lib/python3.12/dist-packages (from requests->mnist1d==0.0.2.post16) (3.4.4)\n",
            "Requirement already satisfied: idna<4,>=2.5 in /usr/local/lib/python3.12/dist-packages (from requests->mnist1d==0.0.2.post16) (3.11)\n",
            "Requirement already satisfied: urllib3<3,>=1.21.1 in /usr/local/lib/python3.12/dist-packages (from requests->mnist1d==0.0.2.post16) (2.5.0)\n",
            "Requirement already satisfied: certifi>=2017.4.17 in /usr/local/lib/python3.12/dist-packages (from requests->mnist1d==0.0.2.post16) (2025.10.5)\n",
            "Requirement already satisfied: six>=1.5 in /usr/local/lib/python3.12/dist-packages (from python-dateutil>=2.7->matplotlib->mnist1d==0.0.2.post16) (1.17.0)\n",
            "Building wheels for collected packages: mnist1d\n",
            "  Building wheel for mnist1d (pyproject.toml) ... \u001b[?25l\u001b[?25hdone\n",
            "  Created wheel for mnist1d: filename=mnist1d-0.0.2.post16-py3-none-any.whl size=14665 sha256=6b05add073772e875d4a6555db0edddbe88a98e3ea58fd8377e447f4b4182294\n",
            "  Stored in directory: /tmp/pip-ephem-wheel-cache-o_dt0yua/wheels/18/40/b6/29381fee9b4c80fdbc304d52bb065a7286bbcca5ca2b8737c0\n",
            "Successfully built mnist1d\n",
            "Installing collected packages: mnist1d\n",
            "Successfully installed mnist1d-0.0.2.post16\n"
          ]
        }
      ]
    },
    {
      "cell_type": "code",
      "source": [
        "import numpy as np\n",
        "import os\n",
        "import torch, torch.nn as nn\n",
        "from torch.utils.data import TensorDataset, DataLoader\n",
        "from torch.optim.lr_scheduler import StepLR\n",
        "import matplotlib.pyplot as plt\n",
        "import mnist1d\n",
        "import random"
      ],
      "metadata": {
        "id": "YrXWAH7sUWvU"
      },
      "execution_count": 2,
      "outputs": []
    },
    {
      "cell_type": "code",
      "source": [
        "args = mnist1d.data.get_dataset_args()\n",
        "data = mnist1d.data.get_dataset(args, path='./mnist1d_data.pkl', download=False, regenerate=False)\n",
        "\n",
        "# The training and test input and outputs are in\n",
        "# data['x'], data['y'], data['x_test'], and data['y_test']\n",
        "print(\"Examples in training set: {}\".format(len(data['y'])))\n",
        "print(\"Examples in test set: {}\".format(len(data['y_test'])))\n",
        "print(\"Length of each example: {}\".format(data['x'].shape[-1]))"
      ],
      "metadata": {
        "id": "twI72ZCrCt5z",
        "colab": {
          "base_uri": "https://localhost:8080/"
        },
        "outputId": "d934d511-f81a-4cf6-930e-ec1628bacd7e"
      },
      "execution_count": 3,
      "outputs": [
        {
          "output_type": "stream",
          "name": "stdout",
          "text": [
            "Did or could not load data from ./mnist1d_data.pkl. Rebuilding dataset...\n",
            "Examples in training set: 4000\n",
            "Examples in test set: 1000\n",
            "Length of each example: 40\n"
          ]
        }
      ]
    },
    {
      "cell_type": "code",
      "source": [
        "# Load in the data\n",
        "train_data_x = data['x'].transpose()\n",
        "train_data_y = data['y']\n",
        "val_data_x = data['x_test'].transpose()\n",
        "val_data_y = data['y_test']\n",
        "# Print out sizes\n",
        "print(\"Train data: %d examples (columns), each of which has %d dimensions (rows)\"%((train_data_x.shape[1],train_data_x.shape[0])))\n",
        "print(\"Validation data: %d examples (columns), each of which has %d dimensions (rows)\"%((val_data_x.shape[1],val_data_x.shape[0])))"
      ],
      "metadata": {
        "id": "8bKADvLHbiV5",
        "colab": {
          "base_uri": "https://localhost:8080/"
        },
        "outputId": "a43c5960-82c9-47f0-c998-bf1df9e97383"
      },
      "execution_count": 4,
      "outputs": [
        {
          "output_type": "stream",
          "name": "stdout",
          "text": [
            "Train data: 4000 examples (columns), each of which has 40 dimensions (rows)\n",
            "Validation data: 1000 examples (columns), each of which has 40 dimensions (rows)\n"
          ]
        }
      ]
    },
    {
      "cell_type": "markdown",
      "source": [
        "Define the network"
      ],
      "metadata": {
        "id": "_sFvRDGrl4qe"
      }
    },
    {
      "cell_type": "code",
      "source": [
        "# There are 40 input dimensions and 10 output dimensions for this data\n",
        "# The inputs correspond to the 40 offsets in the MNIST1D template.\n",
        "D_i = 40\n",
        "# The outputs correspond to the 10 digits\n",
        "D_o = 10\n",
        "\n",
        "\n",
        "# We will adapt this model to have residual connections around the linear layers\n",
        "# This is the same model we used in practical 8.1, but we can't use the sequential\n",
        "# class for residual networks (which aren't strictly sequential).  Hence, I've rewritten\n",
        "# it as a model that inherits from a base class\n",
        "\n",
        "class ResidualNetwork(torch.nn.Module):\n",
        "  def __init__(self, input_size, output_size, hidden_size=100):\n",
        "    super(ResidualNetwork, self).__init__()\n",
        "    self.linear1 = nn.Linear(input_size, hidden_size)\n",
        "    self.linear2 = nn.Linear(hidden_size, hidden_size)\n",
        "    self.linear3 = nn.Linear(hidden_size, hidden_size)\n",
        "    self.linear4 = nn.Linear(hidden_size, output_size)\n",
        "    print(\"Initialized MLPBase model with {} parameters\".format(self.count_params()))\n",
        "\n",
        "  def count_params(self):\n",
        "    return sum([p.view(-1).shape[0] for p in self.parameters()])\n",
        "\n",
        "# TODO -- Add residual connections to this model\n",
        "# The order of operations within each block should similar to figure 11.5b\n",
        "# ie., linear1 first, ReLU+linear2 in first residual block, ReLU+linear3 in second residual block), linear4 at end\n",
        "# Replace this function\n",
        "  def forward(self, x):\n",
        "    h1 = self.linear1(x).relu()\n",
        "    h2 = self.linear2(h1).relu() + h1 # Residual connection 1\n",
        "    h3 = self.linear3(h2).relu() + h2 # Residual connection 2\n",
        "    return self.linear4(h3)"
      ],
      "metadata": {
        "id": "FslroPJJffrh"
      },
      "execution_count": 6,
      "outputs": []
    },
    {
      "cell_type": "code",
      "source": [
        "# He initialization of weights\n",
        "def weights_init(layer_in):\n",
        "  if isinstance(layer_in, nn.Linear):\n",
        "    nn.init.kaiming_uniform_(layer_in.weight)\n",
        "    layer_in.bias.data.fill_(0.0)"
      ],
      "metadata": {
        "id": "YgLaex1pfhqz"
      },
      "execution_count": 7,
      "outputs": []
    },
    {
      "cell_type": "code",
      "source": [
        "#Define the model\n",
        "model = ResidualNetwork(40, 10)\n",
        "\n",
        "# choose cross entropy loss function (equation 5.24 in the loss notes)\n",
        "loss_function = nn.CrossEntropyLoss()\n",
        "# construct SGD optimizer and initialize learning rate and momentum\n",
        "optimizer = torch.optim.SGD(model.parameters(), lr = 0.05, momentum=0.9)\n",
        "# object that decreases learning rate by half every 20 epochs\n",
        "scheduler = StepLR(optimizer, step_size=20, gamma=0.5)\n",
        "# convert data to torch tensors\n",
        "x_train = torch.tensor(train_data_x.transpose().astype('float32'))\n",
        "y_train = torch.tensor(train_data_y.astype('long'))\n",
        "x_val= torch.tensor(val_data_x.transpose().astype('float32'))\n",
        "y_val = torch.tensor(val_data_y.astype('long'))\n",
        "\n",
        "# load the data into a class that creates the batches\n",
        "data_loader = DataLoader(TensorDataset(x_train,y_train), batch_size=100, shuffle=True, worker_init_fn=np.random.seed(1))\n",
        "\n",
        "# Initialize model weights\n",
        "model.apply(weights_init)\n",
        "\n",
        "# loop over the dataset n_epoch times\n",
        "n_epoch = 100\n",
        "# store the loss and the % correct at each epoch\n",
        "losses_train = np.zeros((n_epoch))\n",
        "errors_train = np.zeros((n_epoch))\n",
        "losses_val = np.zeros((n_epoch))\n",
        "errors_val = np.zeros((n_epoch))\n",
        "\n",
        "for epoch in range(n_epoch):\n",
        "  # loop over batches\n",
        "  for i, data in enumerate(data_loader):\n",
        "    # retrieve inputs and labels for this batch\n",
        "    x_batch, y_batch = data\n",
        "    # zero the parameter gradients\n",
        "    optimizer.zero_grad()\n",
        "    # forward pass -- calculate model output\n",
        "    pred = model(x_batch)\n",
        "    # compute the loss\n",
        "    loss = loss_function(pred, y_batch)\n",
        "    # backward pass\n",
        "    loss.backward()\n",
        "    # SGD update\n",
        "    optimizer.step()\n",
        "\n",
        "  # Run whole dataset to get statistics -- normally wouldn't do this\n",
        "  pred_train = model(x_train)\n",
        "  pred_val = model(x_val)\n",
        "  _, predicted_train_class = torch.max(pred_train.data, 1)\n",
        "  _, predicted_val_class = torch.max(pred_val.data, 1)\n",
        "  errors_train[epoch] = 100 - 100 * (predicted_train_class == y_train).float().sum() / len(y_train)\n",
        "  errors_val[epoch]= 100 - 100 * (predicted_val_class == y_val).float().sum() / len(y_val)\n",
        "  losses_train[epoch] = loss_function(pred_train, y_train).item()\n",
        "  losses_val[epoch]= loss_function(pred_val, y_val).item()\n",
        "  print(f'Epoch {epoch:5d}, train loss {losses_train[epoch]:.6f}, train error {errors_train[epoch]:3.2f},  val loss {losses_val[epoch]:.6f}, percent error {errors_val[epoch]:3.2f}')\n",
        "\n",
        "  # tell scheduler to consider updating learning rate\n",
        "  scheduler.step()"
      ],
      "metadata": {
        "id": "NYw8I_3mmX5c",
        "colab": {
          "base_uri": "https://localhost:8080/"
        },
        "outputId": "8664b67e-f243-4a89-d577-836e71091394"
      },
      "execution_count": 8,
      "outputs": [
        {
          "output_type": "stream",
          "name": "stdout",
          "text": [
            "Initialized MLPBase model with 25310 parameters\n",
            "Epoch     0, train loss 1.655367, train error 63.97,  val loss 1.696621, percent error 66.70\n",
            "Epoch     1, train loss 1.379142, train error 51.62,  val loss 1.486061, percent error 58.40\n",
            "Epoch     2, train loss 1.141091, train error 41.40,  val loss 1.306927, percent error 49.50\n",
            "Epoch     3, train loss 1.007330, train error 36.80,  val loss 1.227266, percent error 46.30\n",
            "Epoch     4, train loss 0.898661, train error 32.40,  val loss 1.180762, percent error 45.20\n",
            "Epoch     5, train loss 0.817707, train error 30.22,  val loss 1.129889, percent error 43.30\n",
            "Epoch     6, train loss 0.719687, train error 26.60,  val loss 1.066304, percent error 41.20\n",
            "Epoch     7, train loss 0.685368, train error 25.35,  val loss 1.153923, percent error 41.40\n",
            "Epoch     8, train loss 0.648092, train error 23.88,  val loss 1.164665, percent error 42.90\n",
            "Epoch     9, train loss 0.595647, train error 22.90,  val loss 1.171943, percent error 40.40\n",
            "Epoch    10, train loss 0.491243, train error 17.30,  val loss 1.145031, percent error 40.50\n",
            "Epoch    11, train loss 0.459954, train error 16.12,  val loss 1.196375, percent error 40.50\n",
            "Epoch    12, train loss 0.406144, train error 14.05,  val loss 1.193258, percent error 38.80\n",
            "Epoch    13, train loss 0.357704, train error 12.57,  val loss 1.196957, percent error 38.00\n",
            "Epoch    14, train loss 0.312241, train error 11.20,  val loss 1.265949, percent error 38.50\n",
            "Epoch    15, train loss 0.236971, train error 7.45,  val loss 1.225921, percent error 37.60\n",
            "Epoch    16, train loss 0.207533, train error 6.45,  val loss 1.268268, percent error 36.80\n",
            "Epoch    17, train loss 0.213218, train error 6.32,  val loss 1.405264, percent error 37.40\n",
            "Epoch    18, train loss 0.187073, train error 5.97,  val loss 1.375303, percent error 35.80\n",
            "Epoch    19, train loss 0.160955, train error 4.75,  val loss 1.431802, percent error 36.70\n",
            "Epoch    20, train loss 0.079423, train error 1.10,  val loss 1.370112, percent error 36.50\n",
            "Epoch    21, train loss 0.055847, train error 0.38,  val loss 1.404014, percent error 35.90\n",
            "Epoch    22, train loss 0.045806, train error 0.18,  val loss 1.441640, percent error 36.30\n",
            "Epoch    23, train loss 0.037684, train error 0.03,  val loss 1.432114, percent error 35.70\n",
            "Epoch    24, train loss 0.031899, train error 0.03,  val loss 1.469081, percent error 35.80\n",
            "Epoch    25, train loss 0.028374, train error 0.00,  val loss 1.486026, percent error 36.20\n",
            "Epoch    26, train loss 0.025885, train error 0.03,  val loss 1.507621, percent error 36.90\n",
            "Epoch    27, train loss 0.022030, train error 0.00,  val loss 1.523327, percent error 36.40\n",
            "Epoch    28, train loss 0.020266, train error 0.00,  val loss 1.545790, percent error 36.60\n",
            "Epoch    29, train loss 0.018472, train error 0.00,  val loss 1.559342, percent error 36.70\n",
            "Epoch    30, train loss 0.016738, train error 0.00,  val loss 1.575527, percent error 36.00\n",
            "Epoch    31, train loss 0.015722, train error 0.00,  val loss 1.592086, percent error 36.50\n",
            "Epoch    32, train loss 0.014458, train error 0.00,  val loss 1.612890, percent error 36.50\n",
            "Epoch    33, train loss 0.013677, train error 0.00,  val loss 1.624704, percent error 37.10\n",
            "Epoch    34, train loss 0.012706, train error 0.00,  val loss 1.642439, percent error 36.60\n",
            "Epoch    35, train loss 0.011994, train error 0.00,  val loss 1.656873, percent error 36.60\n",
            "Epoch    36, train loss 0.011414, train error 0.00,  val loss 1.669241, percent error 36.70\n",
            "Epoch    37, train loss 0.010702, train error 0.00,  val loss 1.677814, percent error 36.60\n",
            "Epoch    38, train loss 0.010087, train error 0.00,  val loss 1.688300, percent error 36.30\n",
            "Epoch    39, train loss 0.009692, train error 0.00,  val loss 1.699582, percent error 36.30\n",
            "Epoch    40, train loss 0.009288, train error 0.00,  val loss 1.707359, percent error 36.20\n",
            "Epoch    41, train loss 0.009064, train error 0.00,  val loss 1.714418, percent error 36.00\n",
            "Epoch    42, train loss 0.008858, train error 0.00,  val loss 1.719652, percent error 36.10\n",
            "Epoch    43, train loss 0.008707, train error 0.00,  val loss 1.724507, percent error 36.10\n",
            "Epoch    44, train loss 0.008479, train error 0.00,  val loss 1.731950, percent error 36.20\n",
            "Epoch    45, train loss 0.008310, train error 0.00,  val loss 1.736156, percent error 36.20\n",
            "Epoch    46, train loss 0.008137, train error 0.00,  val loss 1.741106, percent error 36.30\n",
            "Epoch    47, train loss 0.007952, train error 0.00,  val loss 1.743869, percent error 35.90\n",
            "Epoch    48, train loss 0.007797, train error 0.00,  val loss 1.750184, percent error 36.00\n",
            "Epoch    49, train loss 0.007647, train error 0.00,  val loss 1.755880, percent error 36.20\n",
            "Epoch    50, train loss 0.007496, train error 0.00,  val loss 1.758184, percent error 35.90\n",
            "Epoch    51, train loss 0.007367, train error 0.00,  val loss 1.762251, percent error 36.10\n",
            "Epoch    52, train loss 0.007225, train error 0.00,  val loss 1.765915, percent error 35.90\n",
            "Epoch    53, train loss 0.007082, train error 0.00,  val loss 1.773834, percent error 36.20\n",
            "Epoch    54, train loss 0.006986, train error 0.00,  val loss 1.775975, percent error 35.90\n",
            "Epoch    55, train loss 0.006850, train error 0.00,  val loss 1.779533, percent error 35.90\n",
            "Epoch    56, train loss 0.006706, train error 0.00,  val loss 1.783387, percent error 35.90\n",
            "Epoch    57, train loss 0.006614, train error 0.00,  val loss 1.787591, percent error 35.90\n",
            "Epoch    58, train loss 0.006480, train error 0.00,  val loss 1.794373, percent error 35.80\n",
            "Epoch    59, train loss 0.006365, train error 0.00,  val loss 1.796221, percent error 35.90\n",
            "Epoch    60, train loss 0.006305, train error 0.00,  val loss 1.797310, percent error 35.80\n",
            "Epoch    61, train loss 0.006253, train error 0.00,  val loss 1.800188, percent error 35.90\n",
            "Epoch    62, train loss 0.006200, train error 0.00,  val loss 1.801412, percent error 35.70\n",
            "Epoch    63, train loss 0.006148, train error 0.00,  val loss 1.804022, percent error 35.90\n",
            "Epoch    64, train loss 0.006099, train error 0.00,  val loss 1.806869, percent error 35.90\n",
            "Epoch    65, train loss 0.006050, train error 0.00,  val loss 1.807791, percent error 35.80\n",
            "Epoch    66, train loss 0.006001, train error 0.00,  val loss 1.809621, percent error 35.80\n",
            "Epoch    67, train loss 0.005955, train error 0.00,  val loss 1.811578, percent error 35.80\n",
            "Epoch    68, train loss 0.005907, train error 0.00,  val loss 1.813450, percent error 36.00\n",
            "Epoch    69, train loss 0.005860, train error 0.00,  val loss 1.814633, percent error 35.80\n",
            "Epoch    70, train loss 0.005815, train error 0.00,  val loss 1.816971, percent error 35.90\n",
            "Epoch    71, train loss 0.005770, train error 0.00,  val loss 1.818783, percent error 35.90\n",
            "Epoch    72, train loss 0.005727, train error 0.00,  val loss 1.820451, percent error 36.00\n",
            "Epoch    73, train loss 0.005681, train error 0.00,  val loss 1.822970, percent error 36.00\n",
            "Epoch    74, train loss 0.005640, train error 0.00,  val loss 1.824342, percent error 35.90\n",
            "Epoch    75, train loss 0.005596, train error 0.00,  val loss 1.825859, percent error 35.80\n",
            "Epoch    76, train loss 0.005553, train error 0.00,  val loss 1.828083, percent error 36.10\n",
            "Epoch    77, train loss 0.005513, train error 0.00,  val loss 1.829868, percent error 36.00\n",
            "Epoch    78, train loss 0.005472, train error 0.00,  val loss 1.831190, percent error 35.80\n",
            "Epoch    79, train loss 0.005432, train error 0.00,  val loss 1.833861, percent error 36.10\n",
            "Epoch    80, train loss 0.005410, train error 0.00,  val loss 1.834459, percent error 36.00\n",
            "Epoch    81, train loss 0.005390, train error 0.00,  val loss 1.834569, percent error 36.00\n",
            "Epoch    82, train loss 0.005370, train error 0.00,  val loss 1.835705, percent error 35.90\n",
            "Epoch    83, train loss 0.005351, train error 0.00,  val loss 1.836600, percent error 36.00\n",
            "Epoch    84, train loss 0.005331, train error 0.00,  val loss 1.837247, percent error 35.90\n",
            "Epoch    85, train loss 0.005312, train error 0.00,  val loss 1.838035, percent error 36.00\n",
            "Epoch    86, train loss 0.005293, train error 0.00,  val loss 1.838815, percent error 35.90\n",
            "Epoch    87, train loss 0.005273, train error 0.00,  val loss 1.840045, percent error 36.00\n",
            "Epoch    88, train loss 0.005255, train error 0.00,  val loss 1.840593, percent error 36.00\n",
            "Epoch    89, train loss 0.005236, train error 0.00,  val loss 1.841506, percent error 36.00\n",
            "Epoch    90, train loss 0.005217, train error 0.00,  val loss 1.842176, percent error 36.00\n",
            "Epoch    91, train loss 0.005198, train error 0.00,  val loss 1.842771, percent error 35.90\n",
            "Epoch    92, train loss 0.005180, train error 0.00,  val loss 1.844182, percent error 35.90\n",
            "Epoch    93, train loss 0.005161, train error 0.00,  val loss 1.844756, percent error 35.80\n",
            "Epoch    94, train loss 0.005143, train error 0.00,  val loss 1.845515, percent error 35.90\n",
            "Epoch    95, train loss 0.005125, train error 0.00,  val loss 1.846188, percent error 35.80\n",
            "Epoch    96, train loss 0.005107, train error 0.00,  val loss 1.847443, percent error 36.00\n",
            "Epoch    97, train loss 0.005089, train error 0.00,  val loss 1.848098, percent error 35.90\n",
            "Epoch    98, train loss 0.005072, train error 0.00,  val loss 1.849120, percent error 35.90\n",
            "Epoch    99, train loss 0.005054, train error 0.00,  val loss 1.849975, percent error 35.90\n"
          ]
        }
      ]
    },
    {
      "cell_type": "code",
      "source": [
        "# Plot the results\n",
        "fig, ax = plt.subplots()\n",
        "ax.plot(errors_train,'r-',label='train')\n",
        "ax.plot(errors_val,'b-',label='test')\n",
        "ax.set_ylim(0,100); ax.set_xlim(0,n_epoch)\n",
        "ax.set_xlabel('Epoch'); ax.set_ylabel('Error')\n",
        "ax.set_title('TrainError %3.2f, Val Error %3.2f'%(errors_train[-1],errors_val[-1]))\n",
        "ax.legend()\n",
        "plt.show()"
      ],
      "metadata": {
        "id": "CcP_VyEmE2sv",
        "colab": {
          "base_uri": "https://localhost:8080/",
          "height": 472
        },
        "outputId": "6275426f-ccf1-4cb1-d47b-5d30e90bab2b"
      },
      "execution_count": 9,
      "outputs": [
        {
          "output_type": "display_data",
          "data": {
            "text/plain": [
              "<Figure size 640x480 with 1 Axes>"
            ],
            "image/png": "[encoded data removed]"
          },
          "metadata": {}
        }
      ]
    },
    {
      "cell_type": "markdown",
      "source": [
        "The primary motivation of residual networks is to allow training of much deeper networks.   \n",
        "\n",
        "TODO: Try running this network with and without the residual connections.  Does adding the residual connections change the performance?"
      ],
      "metadata": {
        "id": "wMmqhmxuAx0M"
      }
    },
    {
      "cell_type": "code",
      "source": [
        "# The primary motivation of residual networks is to allow training of much deeper networks.\n",
        "\n",
        "# TODO: Try running this network with and without the residual connections.  Does adding the residual connections change the performance?"
      ],
      "metadata": {
        "id": "4cwBTMlgW4El"
      },
      "execution_count": null,
      "outputs": []
    },
    {
      "cell_type": "markdown",
      "metadata": {
        "id": "6a9723c7"
      },
      "source": [
        "# Task\n",
        "Modify the `ResidualNetwork` class to include a parameter to enable or disable residual connections. Then, train the network with and without residual connections and plot the training and validation errors for comparison."
      ]
    },
    {
      "cell_type": "markdown",
      "metadata": {
        "id": "21ccbc27"
      },
      "source": [
        "## Modify network class\n",
        "\n",
        "### Subtask:\n",
        "Add a parameter to the `ResidualNetwork` class to enable or disable residual connections.\n"
      ]
    },
    {
      "cell_type": "markdown",
      "metadata": {
        "id": "0d1552dd"
      },
      "source": [
        "**Reasoning**:\n",
        "Modify the ResidualNetwork class to include a parameter to enable or disable residual connections in the forward method based on the provided instructions.\n",
        "\n"
      ]
    },
    {
      "cell_type": "code",
      "metadata": {
        "id": "2f94f65e"
      },
      "source": [
        "class ResidualNetwork(torch.nn.Module):\n",
        "  def __init__(self, input_size, output_size, hidden_size=100, use_residuals=True):\n",
        "    super(ResidualNetwork, self).__init__()\n",
        "    self.linear1 = nn.Linear(input_size, hidden_size)\n",
        "    self.linear2 = nn.Linear(hidden_size, hidden_size)\n",
        "    self.linear3 = nn.Linear(hidden_size, hidden_size)\n",
        "    self.linear4 = nn.Linear(hidden_size, output_size)\n",
        "    self.use_residuals = use_residuals\n",
        "    print(\"Initialized MLPBase model with {} parameters\".format(self.count_params()))\n",
        "\n",
        "  def count_params(self):\n",
        "    return sum([p.view(-1).shape[0] for p in self.parameters()])\n",
        "\n",
        "  def forward(self, x):\n",
        "    h1 = self.linear1(x).relu()\n",
        "    if self.use_residuals:\n",
        "        h2 = self.linear2(h1).relu() + h1 # Residual connection 1\n",
        "        h3 = self.linear3(h2).relu() + h2 # Residual connection 2\n",
        "    else:\n",
        "        h2 = self.linear2(h1).relu() # No Residual connection 1\n",
        "        h3 = self.linear3(h2).relu() # No Residual connection 2\n",
        "\n",
        "    return self.linear4(h3)"
      ],
      "execution_count": 10,
      "outputs": []
    },
    {
      "cell_type": "markdown",
      "metadata": {
        "id": "286b9b4f"
      },
      "source": [
        "## Train without residuals\n",
        "\n",
        "### Subtask:\n",
        "Instantiate the network with residual connections disabled and train it. Store the training and validation errors.\n"
      ]
    },
    {
      "cell_type": "markdown",
      "metadata": {
        "id": "5b25b06c"
      },
      "source": [
        "**Reasoning**:\n",
        "The goal is to train the network without residual connections. This requires instantiating the model with `use_residuals=False`, setting up the training infrastructure (loss function, optimizer, scheduler, data loader), initializing the weights, and then running the training loop for the specified number of epochs while recording the training and validation performance metrics. This can all be done in a single code block.\n",
        "\n"
      ]
    },
    {
      "cell_type": "code",
      "metadata": {
        "colab": {
          "base_uri": "https://localhost:8080/"
        },
        "id": "41195613",
        "outputId": "998a927c-0762-44b1-dee4-7a7c26f3e073"
      },
      "source": [
        "# Define the model without residual connections\n",
        "model_no_residuals = ResidualNetwork(40, 10, use_residuals=False)\n",
        "\n",
        "# choose cross entropy loss function (equation 5.24 in the loss notes)\n",
        "loss_function = nn.CrossEntropyLoss()\n",
        "# construct SGD optimizer and initialize learning rate and momentum\n",
        "optimizer_no_residuals = torch.optim.SGD(model_no_residuals.parameters(), lr = 0.05, momentum=0.9)\n",
        "# object that decreases learning rate by half every 20 epochs\n",
        "scheduler_no_residuals = StepLR(optimizer_no_residuals, step_size=20, gamma=0.5)\n",
        "# convert data to torch tensors\n",
        "# These are already converted in a previous cell, no need to convert again.\n",
        "# x_train = torch.tensor(train_data_x.transpose().astype('float32'))\n",
        "# y_train = torch.tensor(train_data_y.astype('long'))\n",
        "# x_val= torch.tensor(val_data_x.transpose().astype('float32'))\n",
        "# y_val = torch.tensor(val_data_y.astype('long'))\n",
        "\n",
        "# load the data into a class that creates the batches\n",
        "data_loader = DataLoader(TensorDataset(x_train,y_train), batch_size=100, shuffle=True, worker_init_fn=np.random.seed(1))\n",
        "\n",
        "# Initialize model weights\n",
        "model_no_residuals.apply(weights_init)\n",
        "\n",
        "# loop over the dataset n_epoch times\n",
        "# n_epoch is already defined as 100\n",
        "# store the loss and the % correct at each epoch\n",
        "losses_train_no_residuals = np.zeros((n_epoch))\n",
        "errors_train_no_residuals = np.zeros((n_epoch))\n",
        "losses_val_no_residuals = np.zeros((n_epoch))\n",
        "errors_val_no_residuals = np.zeros((n_epoch))\n",
        "\n",
        "for epoch in range(n_epoch):\n",
        "  # loop over batches\n",
        "  for i, data in enumerate(data_loader):\n",
        "    # retrieve inputs and labels for this batch\n",
        "    x_batch, y_batch = data\n",
        "    # zero the parameter gradients\n",
        "    optimizer_no_residuals.zero_grad()\n",
        "    # forward pass -- calculate model output\n",
        "    pred = model_no_residuals(x_batch)\n",
        "    # compute the loss\n",
        "    loss = loss_function(pred, y_batch)\n",
        "    # backward pass\n",
        "    loss.backward()\n",
        "    # SGD update\n",
        "    optimizer_no_residuals.step()\n",
        "\n",
        "  # Run whole dataset to get statistics -- normally wouldn't do this\n",
        "  pred_train = model_no_residuals(x_train)\n",
        "  pred_val = model_no_residuals(x_val)\n",
        "  _, predicted_train_class = torch.max(pred_train.data, 1)\n",
        "  _, predicted_val_class = torch.max(pred_val.data, 1)\n",
        "  errors_train_no_residuals[epoch] = 100 - 100 * (predicted_train_class == y_train).float().sum() / len(y_train)\n",
        "  errors_val_no_residuals[epoch]= 100 - 100 * (predicted_val_class == y_val).float().sum() / len(y_val)\n",
        "  losses_train_no_residuals[epoch] = loss_function(pred_train, y_train).item()\n",
        "  losses_val_no_residuals[epoch]= loss_function(pred_val, y_val).item()\n",
        "  print(f'Epoch {epoch:5d}, train loss {losses_train_no_residuals[epoch]:.6f}, train error {errors_train_no_residuals[epoch]:3.2f},  val loss {losses_val_no_residuals[epoch]:.6f}, percent error {errors_val_no_residuals[epoch]:3.2f}')\n",
        "\n",
        "  # tell scheduler to consider updating learning rate\n",
        "  scheduler_no_residuals.step()"
      ],
      "execution_count": 11,
      "outputs": [
        {
          "output_type": "stream",
          "name": "stdout",
          "text": [
            "Initialized MLPBase model with 25310 parameters\n",
            "Epoch     0, train loss 1.605309, train error 62.30,  val loss 1.686068, percent error 67.50\n",
            "Epoch     1, train loss 1.339615, train error 50.72,  val loss 1.489556, percent error 58.70\n",
            "Epoch     2, train loss 1.167214, train error 43.20,  val loss 1.387896, percent error 56.60\n",
            "Epoch     3, train loss 1.004917, train error 36.65,  val loss 1.298886, percent error 49.40\n",
            "Epoch     4, train loss 0.858159, train error 31.35,  val loss 1.234278, percent error 46.60\n",
            "Epoch     5, train loss 0.718187, train error 26.10,  val loss 1.188483, percent error 45.70\n",
            "Epoch     6, train loss 0.610009, train error 21.97,  val loss 1.148386, percent error 40.40\n",
            "Epoch     7, train loss 0.512362, train error 17.88,  val loss 1.199038, percent error 42.90\n",
            "Epoch     8, train loss 0.486959, train error 16.50,  val loss 1.242278, percent error 44.40\n",
            "Epoch     9, train loss 0.408725, train error 14.93,  val loss 1.179461, percent error 40.00\n",
            "Epoch    10, train loss 0.331534, train error 10.68,  val loss 1.216047, percent error 40.80\n",
            "Epoch    11, train loss 0.346119, train error 12.03,  val loss 1.350005, percent error 41.40\n",
            "Epoch    12, train loss 0.276951, train error 9.45,  val loss 1.332008, percent error 37.40\n",
            "Epoch    13, train loss 0.243381, train error 8.30,  val loss 1.390165, percent error 40.70\n",
            "Epoch    14, train loss 0.228160, train error 8.38,  val loss 1.388669, percent error 37.30\n",
            "Epoch    15, train loss 0.171261, train error 5.12,  val loss 1.381770, percent error 36.30\n",
            "Epoch    16, train loss 0.120098, train error 3.28,  val loss 1.464525, percent error 37.70\n",
            "Epoch    17, train loss 0.108944, train error 3.53,  val loss 1.553752, percent error 36.60\n",
            "Epoch    18, train loss 0.135659, train error 4.38,  val loss 1.600706, percent error 36.20\n",
            "Epoch    19, train loss 0.136249, train error 4.90,  val loss 1.679851, percent error 37.80\n",
            "Epoch    20, train loss 0.037848, train error 0.40,  val loss 1.467111, percent error 35.40\n",
            "Epoch    21, train loss 0.017937, train error 0.03,  val loss 1.472808, percent error 35.00\n",
            "Epoch    22, train loss 0.012389, train error 0.00,  val loss 1.519594, percent error 34.60\n",
            "Epoch    23, train loss 0.010019, train error 0.00,  val loss 1.543256, percent error 34.50\n",
            "Epoch    24, train loss 0.008427, train error 0.00,  val loss 1.571099, percent error 34.30\n",
            "Epoch    25, train loss 0.007564, train error 0.00,  val loss 1.593454, percent error 34.20\n",
            "Epoch    26, train loss 0.006667, train error 0.00,  val loss 1.613353, percent error 34.40\n",
            "Epoch    27, train loss 0.006017, train error 0.00,  val loss 1.633505, percent error 34.10\n",
            "Epoch    28, train loss 0.005532, train error 0.00,  val loss 1.650554, percent error 34.10\n",
            "Epoch    29, train loss 0.005076, train error 0.00,  val loss 1.667268, percent error 34.20\n",
            "Epoch    30, train loss 0.004714, train error 0.00,  val loss 1.685740, percent error 34.30\n",
            "Epoch    31, train loss 0.004436, train error 0.00,  val loss 1.690828, percent error 34.20\n",
            "Epoch    32, train loss 0.004167, train error 0.00,  val loss 1.712147, percent error 33.90\n",
            "Epoch    33, train loss 0.003901, train error 0.00,  val loss 1.719255, percent error 34.10\n",
            "Epoch    34, train loss 0.003696, train error 0.00,  val loss 1.729517, percent error 34.00\n",
            "Epoch    35, train loss 0.003497, train error 0.00,  val loss 1.744415, percent error 34.00\n",
            "Epoch    36, train loss 0.003319, train error 0.00,  val loss 1.755345, percent error 34.30\n",
            "Epoch    37, train loss 0.003158, train error 0.00,  val loss 1.761713, percent error 34.20\n",
            "Epoch    38, train loss 0.003019, train error 0.00,  val loss 1.773144, percent error 34.40\n",
            "Epoch    39, train loss 0.002886, train error 0.00,  val loss 1.784038, percent error 34.30\n",
            "Epoch    40, train loss 0.002820, train error 0.00,  val loss 1.786544, percent error 34.30\n",
            "Epoch    41, train loss 0.002763, train error 0.00,  val loss 1.790465, percent error 34.30\n",
            "Epoch    42, train loss 0.002709, train error 0.00,  val loss 1.794969, percent error 34.20\n",
            "Epoch    43, train loss 0.002654, train error 0.00,  val loss 1.798548, percent error 34.10\n",
            "Epoch    44, train loss 0.002607, train error 0.00,  val loss 1.801437, percent error 34.10\n",
            "Epoch    45, train loss 0.002557, train error 0.00,  val loss 1.805871, percent error 34.10\n",
            "Epoch    46, train loss 0.002509, train error 0.00,  val loss 1.809659, percent error 33.90\n",
            "Epoch    47, train loss 0.002463, train error 0.00,  val loss 1.814100, percent error 34.00\n",
            "Epoch    48, train loss 0.002419, train error 0.00,  val loss 1.818774, percent error 33.80\n",
            "Epoch    49, train loss 0.002377, train error 0.00,  val loss 1.823047, percent error 33.90\n",
            "Epoch    50, train loss 0.002337, train error 0.00,  val loss 1.825240, percent error 33.80\n",
            "Epoch    51, train loss 0.002299, train error 0.00,  val loss 1.828488, percent error 33.90\n",
            "Epoch    52, train loss 0.002259, train error 0.00,  val loss 1.831633, percent error 33.90\n",
            "Epoch    53, train loss 0.002223, train error 0.00,  val loss 1.836666, percent error 33.90\n",
            "Epoch    54, train loss 0.002188, train error 0.00,  val loss 1.839643, percent error 33.80\n",
            "Epoch    55, train loss 0.002153, train error 0.00,  val loss 1.842845, percent error 33.90\n",
            "Epoch    56, train loss 0.002119, train error 0.00,  val loss 1.846338, percent error 33.90\n",
            "Epoch    57, train loss 0.002087, train error 0.00,  val loss 1.849814, percent error 33.90\n",
            "Epoch    58, train loss 0.002056, train error 0.00,  val loss 1.852316, percent error 33.90\n",
            "Epoch    59, train loss 0.002025, train error 0.00,  val loss 1.855254, percent error 33.90\n",
            "Epoch    60, train loss 0.002009, train error 0.00,  val loss 1.856998, percent error 34.00\n",
            "Epoch    61, train loss 0.001994, train error 0.00,  val loss 1.858658, percent error 34.00\n",
            "Epoch    62, train loss 0.001980, train error 0.00,  val loss 1.860412, percent error 34.00\n",
            "Epoch    63, train loss 0.001966, train error 0.00,  val loss 1.862128, percent error 34.00\n",
            "Epoch    64, train loss 0.001952, train error 0.00,  val loss 1.863697, percent error 34.00\n",
            "Epoch    65, train loss 0.001938, train error 0.00,  val loss 1.865921, percent error 33.90\n",
            "Epoch    66, train loss 0.001924, train error 0.00,  val loss 1.866729, percent error 34.10\n",
            "Epoch    67, train loss 0.001911, train error 0.00,  val loss 1.867991, percent error 34.00\n",
            "Epoch    68, train loss 0.001898, train error 0.00,  val loss 1.869805, percent error 34.00\n",
            "Epoch    69, train loss 0.001884, train error 0.00,  val loss 1.871307, percent error 34.00\n",
            "Epoch    70, train loss 0.001872, train error 0.00,  val loss 1.872357, percent error 34.00\n",
            "Epoch    71, train loss 0.001859, train error 0.00,  val loss 1.874176, percent error 34.00\n",
            "Epoch    72, train loss 0.001846, train error 0.00,  val loss 1.875579, percent error 34.00\n",
            "Epoch    73, train loss 0.001834, train error 0.00,  val loss 1.876662, percent error 34.00\n",
            "Epoch    74, train loss 0.001822, train error 0.00,  val loss 1.878701, percent error 34.00\n",
            "Epoch    75, train loss 0.001809, train error 0.00,  val loss 1.880158, percent error 34.00\n",
            "Epoch    76, train loss 0.001798, train error 0.00,  val loss 1.881370, percent error 34.00\n",
            "Epoch    77, train loss 0.001786, train error 0.00,  val loss 1.882630, percent error 34.00\n",
            "Epoch    78, train loss 0.001774, train error 0.00,  val loss 1.884249, percent error 34.10\n",
            "Epoch    79, train loss 0.001762, train error 0.00,  val loss 1.885681, percent error 34.10\n",
            "Epoch    80, train loss 0.001757, train error 0.00,  val loss 1.886520, percent error 34.10\n",
            "Epoch    81, train loss 0.001751, train error 0.00,  val loss 1.887105, percent error 34.10\n",
            "Epoch    82, train loss 0.001745, train error 0.00,  val loss 1.887620, percent error 34.10\n",
            "Epoch    83, train loss 0.001740, train error 0.00,  val loss 1.888442, percent error 34.10\n",
            "Epoch    84, train loss 0.001734, train error 0.00,  val loss 1.889315, percent error 34.10\n",
            "Epoch    85, train loss 0.001729, train error 0.00,  val loss 1.889828, percent error 34.10\n",
            "Epoch    86, train loss 0.001723, train error 0.00,  val loss 1.890520, percent error 34.10\n",
            "Epoch    87, train loss 0.001718, train error 0.00,  val loss 1.891093, percent error 34.10\n",
            "Epoch    88, train loss 0.001713, train error 0.00,  val loss 1.891935, percent error 34.10\n",
            "Epoch    89, train loss 0.001707, train error 0.00,  val loss 1.892342, percent error 34.10\n",
            "Epoch    90, train loss 0.001702, train error 0.00,  val loss 1.893484, percent error 34.10\n",
            "Epoch    91, train loss 0.001696, train error 0.00,  val loss 1.893949, percent error 34.10\n",
            "Epoch    92, train loss 0.001691, train error 0.00,  val loss 1.894609, percent error 34.10\n",
            "Epoch    93, train loss 0.001686, train error 0.00,  val loss 1.895152, percent error 34.10\n",
            "Epoch    94, train loss 0.001681, train error 0.00,  val loss 1.895989, percent error 34.20\n",
            "Epoch    95, train loss 0.001676, train error 0.00,  val loss 1.896583, percent error 34.10\n",
            "Epoch    96, train loss 0.001670, train error 0.00,  val loss 1.897237, percent error 34.20\n",
            "Epoch    97, train loss 0.001665, train error 0.00,  val loss 1.897979, percent error 34.10\n",
            "Epoch    98, train loss 0.001660, train error 0.00,  val loss 1.898368, percent error 34.20\n",
            "Epoch    99, train loss 0.001655, train error 0.00,  val loss 1.899101, percent error 34.20\n"
          ]
        }
      ]
    },
    {
      "cell_type": "markdown",
      "metadata": {
        "id": "4e233f37"
      },
      "source": [
        "## Train with residuals\n",
        "\n",
        "### Subtask:\n",
        "Instantiate the network with residual connections enabled and train it. Store the training and validation errors.\n"
      ]
    },
    {
      "cell_type": "markdown",
      "metadata": {
        "id": "9a3321fa"
      },
      "source": [
        "**Reasoning**:\n",
        "Instantiate and train the network with residual connections enabled, storing the training and validation errors.\n",
        "\n"
      ]
    },
    {
      "cell_type": "code",
      "metadata": {
        "colab": {
          "base_uri": "https://localhost:8080/"
        },
        "id": "f68abb09",
        "outputId": "a4c5e504-a623-421a-d42a-6e436ab4e404"
      },
      "source": [
        "# Instantiate the network with residual connections enabled\n",
        "model_with_residuals = ResidualNetwork(40, 10, use_residuals=True)\n",
        "\n",
        "# Define a new SGD optimizer for model_with_residuals\n",
        "optimizer_with_residuals = torch.optim.SGD(model_with_residuals.parameters(), lr = 0.05, momentum=0.9)\n",
        "\n",
        "# Define a new learning rate scheduler\n",
        "scheduler_with_residuals = StepLR(optimizer_with_residuals, step_size=20, gamma=0.5)\n",
        "\n",
        "# Initialize weights\n",
        "model_with_residuals.apply(weights_init)\n",
        "\n",
        "# Initialize arrays to store results\n",
        "losses_train_with_residuals = np.zeros((n_epoch))\n",
        "errors_train_with_residuals = np.zeros((n_epoch))\n",
        "losses_val_with_residuals = np.zeros((n_epoch))\n",
        "errors_val_with_residuals = np.zeros((n_epoch))\n",
        "\n",
        "# Training loop\n",
        "for epoch in range(n_epoch):\n",
        "  # loop over batches\n",
        "  for i, data in enumerate(data_loader):\n",
        "    # retrieve inputs and labels for this batch\n",
        "    x_batch, y_batch = data\n",
        "    # zero the parameter gradients\n",
        "    optimizer_with_residuals.zero_grad()\n",
        "    # forward pass -- calculate model output\n",
        "    pred = model_with_residuals(x_batch)\n",
        "    # compute the loss\n",
        "    loss = loss_function(pred, y_batch)\n",
        "    # backward pass\n",
        "    loss.backward()\n",
        "    # SGD update\n",
        "    optimizer_with_residuals.step()\n",
        "\n",
        "  # Run whole dataset to get statistics -- normally wouldn't do this\n",
        "  pred_train = model_with_residuals(x_train)\n",
        "  pred_val = model_with_residuals(x_val)\n",
        "  _, predicted_train_class = torch.max(pred_train.data, 1)\n",
        "  _, predicted_val_class = torch.max(pred_val.data, 1)\n",
        "  errors_train_with_residuals[epoch] = 100 - 100 * (predicted_train_class == y_train).float().sum() / len(y_train)\n",
        "  errors_val_with_residuals[epoch]= 100 - 100 * (predicted_val_class == y_val).float().sum() / len(y_val)\n",
        "  losses_train_with_residuals[epoch] = loss_function(pred_train, y_train).item()\n",
        "  losses_val_with_residuals[epoch]= loss_function(pred_val, y_val).item()\n",
        "  print(f'Epoch {epoch:5d}, train loss {losses_train_with_residuals[epoch]:.6f}, train error {errors_train_with_residuals[epoch]:3.2f},  val loss {losses_val_with_residuals[epoch]:.6f}, percent error {errors_val_with_residuals[epoch]:3.2f}')\n",
        "\n",
        "  # tell scheduler to consider updating learning rate\n",
        "  scheduler_with_residuals.step()"
      ],
      "execution_count": 12,
      "outputs": [
        {
          "output_type": "stream",
          "name": "stdout",
          "text": [
            "Initialized MLPBase model with 25310 parameters\n",
            "Epoch     0, train loss 1.582303, train error 59.45,  val loss 1.688680, percent error 65.90\n",
            "Epoch     1, train loss 1.288029, train error 46.88,  val loss 1.450240, percent error 56.90\n",
            "Epoch     2, train loss 1.102558, train error 40.20,  val loss 1.322867, percent error 53.20\n",
            "Epoch     3, train loss 0.982659, train error 37.28,  val loss 1.241792, percent error 48.60\n",
            "Epoch     4, train loss 0.882829, train error 32.30,  val loss 1.188022, percent error 46.80\n",
            "Epoch     5, train loss 0.771037, train error 27.57,  val loss 1.153515, percent error 43.80\n",
            "Epoch     6, train loss 0.703808, train error 25.90,  val loss 1.133234, percent error 43.90\n",
            "Epoch     7, train loss 0.628277, train error 22.60,  val loss 1.139803, percent error 43.40\n",
            "Epoch     8, train loss 0.561121, train error 19.60,  val loss 1.102658, percent error 39.90\n",
            "Epoch     9, train loss 0.537011, train error 18.60,  val loss 1.157227, percent error 39.30\n",
            "Epoch    10, train loss 0.469220, train error 16.72,  val loss 1.170283, percent error 39.60\n",
            "Epoch    11, train loss 0.399940, train error 13.78,  val loss 1.166081, percent error 40.60\n",
            "Epoch    12, train loss 0.384542, train error 14.05,  val loss 1.257638, percent error 40.00\n",
            "Epoch    13, train loss 0.303010, train error 9.85,  val loss 1.223729, percent error 39.70\n",
            "Epoch    14, train loss 0.280192, train error 9.43,  val loss 1.311606, percent error 39.30\n",
            "Epoch    15, train loss 0.287756, train error 9.62,  val loss 1.319768, percent error 40.00\n",
            "Epoch    16, train loss 0.252895, train error 8.78,  val loss 1.419476, percent error 40.60\n",
            "Epoch    17, train loss 0.194052, train error 6.70,  val loss 1.412664, percent error 37.90\n",
            "Epoch    18, train loss 0.190454, train error 6.35,  val loss 1.482947, percent error 39.20\n",
            "Epoch    19, train loss 0.243329, train error 8.95,  val loss 1.430890, percent error 38.20\n",
            "Epoch    20, train loss 0.074227, train error 1.12,  val loss 1.372794, percent error 37.10\n",
            "Epoch    21, train loss 0.041690, train error 0.20,  val loss 1.348505, percent error 35.40\n",
            "Epoch    22, train loss 0.029629, train error 0.03,  val loss 1.370346, percent error 35.90\n",
            "Epoch    23, train loss 0.024976, train error 0.00,  val loss 1.381687, percent error 35.70\n",
            "Epoch    24, train loss 0.021666, train error 0.00,  val loss 1.426694, percent error 36.40\n",
            "Epoch    25, train loss 0.019057, train error 0.00,  val loss 1.444696, percent error 36.40\n",
            "Epoch    26, train loss 0.016799, train error 0.00,  val loss 1.464859, percent error 36.40\n",
            "Epoch    27, train loss 0.015257, train error 0.00,  val loss 1.478943, percent error 35.60\n",
            "Epoch    28, train loss 0.013969, train error 0.00,  val loss 1.504854, percent error 36.00\n",
            "Epoch    29, train loss 0.012802, train error 0.00,  val loss 1.515082, percent error 35.90\n",
            "Epoch    30, train loss 0.012114, train error 0.00,  val loss 1.540032, percent error 36.10\n",
            "Epoch    31, train loss 0.011087, train error 0.00,  val loss 1.556541, percent error 36.10\n",
            "Epoch    32, train loss 0.010329, train error 0.00,  val loss 1.569950, percent error 36.30\n",
            "Epoch    33, train loss 0.009615, train error 0.00,  val loss 1.584798, percent error 36.20\n",
            "Epoch    34, train loss 0.009081, train error 0.00,  val loss 1.596183, percent error 35.90\n",
            "Epoch    35, train loss 0.008546, train error 0.00,  val loss 1.611618, percent error 36.50\n",
            "Epoch    36, train loss 0.008117, train error 0.00,  val loss 1.624505, percent error 36.30\n",
            "Epoch    37, train loss 0.007687, train error 0.00,  val loss 1.632636, percent error 36.00\n",
            "Epoch    38, train loss 0.007304, train error 0.00,  val loss 1.644892, percent error 36.30\n",
            "Epoch    39, train loss 0.006946, train error 0.00,  val loss 1.656422, percent error 36.20\n",
            "Epoch    40, train loss 0.006772, train error 0.00,  val loss 1.659936, percent error 35.80\n",
            "Epoch    41, train loss 0.006615, train error 0.00,  val loss 1.666892, percent error 36.30\n",
            "Epoch    42, train loss 0.006483, train error 0.00,  val loss 1.672509, percent error 36.10\n",
            "Epoch    43, train loss 0.006344, train error 0.00,  val loss 1.676449, percent error 36.40\n",
            "Epoch    44, train loss 0.006214, train error 0.00,  val loss 1.680735, percent error 36.00\n",
            "Epoch    45, train loss 0.006106, train error 0.00,  val loss 1.685891, percent error 36.40\n",
            "Epoch    46, train loss 0.005961, train error 0.00,  val loss 1.690352, percent error 36.10\n",
            "Epoch    47, train loss 0.005843, train error 0.00,  val loss 1.695202, percent error 36.30\n",
            "Epoch    48, train loss 0.005733, train error 0.00,  val loss 1.700441, percent error 36.40\n",
            "Epoch    49, train loss 0.005637, train error 0.00,  val loss 1.703426, percent error 36.30\n",
            "Epoch    50, train loss 0.005521, train error 0.00,  val loss 1.709138, percent error 36.10\n",
            "Epoch    51, train loss 0.005419, train error 0.00,  val loss 1.713014, percent error 36.20\n",
            "Epoch    52, train loss 0.005316, train error 0.00,  val loss 1.716775, percent error 36.30\n",
            "Epoch    53, train loss 0.005226, train error 0.00,  val loss 1.721656, percent error 36.30\n",
            "Epoch    54, train loss 0.005140, train error 0.00,  val loss 1.724938, percent error 36.40\n",
            "Epoch    55, train loss 0.005046, train error 0.00,  val loss 1.730401, percent error 36.40\n",
            "Epoch    56, train loss 0.004962, train error 0.00,  val loss 1.733121, percent error 36.50\n",
            "Epoch    57, train loss 0.004877, train error 0.00,  val loss 1.737948, percent error 36.30\n",
            "Epoch    58, train loss 0.004798, train error 0.00,  val loss 1.743474, percent error 36.40\n",
            "Epoch    59, train loss 0.004725, train error 0.00,  val loss 1.745597, percent error 36.20\n",
            "Epoch    60, train loss 0.004676, train error 0.00,  val loss 1.747538, percent error 36.30\n",
            "Epoch    61, train loss 0.004638, train error 0.00,  val loss 1.749979, percent error 36.30\n",
            "Epoch    62, train loss 0.004602, train error 0.00,  val loss 1.751545, percent error 36.20\n",
            "Epoch    63, train loss 0.004565, train error 0.00,  val loss 1.753757, percent error 36.30\n",
            "Epoch    64, train loss 0.004529, train error 0.00,  val loss 1.755401, percent error 36.40\n",
            "Epoch    65, train loss 0.004494, train error 0.00,  val loss 1.757785, percent error 36.40\n",
            "Epoch    66, train loss 0.004459, train error 0.00,  val loss 1.759587, percent error 36.40\n",
            "Epoch    67, train loss 0.004426, train error 0.00,  val loss 1.760990, percent error 36.40\n",
            "Epoch    68, train loss 0.004392, train error 0.00,  val loss 1.762866, percent error 36.30\n",
            "Epoch    69, train loss 0.004358, train error 0.00,  val loss 1.765286, percent error 36.60\n",
            "Epoch    70, train loss 0.004326, train error 0.00,  val loss 1.766897, percent error 36.30\n",
            "Epoch    71, train loss 0.004295, train error 0.00,  val loss 1.768972, percent error 36.70\n",
            "Epoch    72, train loss 0.004261, train error 0.00,  val loss 1.770697, percent error 36.40\n",
            "Epoch    73, train loss 0.004231, train error 0.00,  val loss 1.771628, percent error 36.70\n",
            "Epoch    74, train loss 0.004199, train error 0.00,  val loss 1.773640, percent error 36.30\n",
            "Epoch    75, train loss 0.004169, train error 0.00,  val loss 1.775375, percent error 36.30\n",
            "Epoch    76, train loss 0.004139, train error 0.00,  val loss 1.777153, percent error 36.30\n",
            "Epoch    77, train loss 0.004109, train error 0.00,  val loss 1.779110, percent error 36.30\n",
            "Epoch    78, train loss 0.004081, train error 0.00,  val loss 1.780578, percent error 36.40\n",
            "Epoch    79, train loss 0.004051, train error 0.00,  val loss 1.782006, percent error 36.50\n",
            "Epoch    80, train loss 0.004036, train error 0.00,  val loss 1.783488, percent error 36.50\n",
            "Epoch    81, train loss 0.004021, train error 0.00,  val loss 1.783979, percent error 36.40\n",
            "Epoch    82, train loss 0.004007, train error 0.00,  val loss 1.784607, percent error 36.40\n",
            "Epoch    83, train loss 0.003993, train error 0.00,  val loss 1.785812, percent error 36.40\n",
            "Epoch    84, train loss 0.003979, train error 0.00,  val loss 1.786620, percent error 36.60\n",
            "Epoch    85, train loss 0.003965, train error 0.00,  val loss 1.787678, percent error 36.60\n",
            "Epoch    86, train loss 0.003951, train error 0.00,  val loss 1.788396, percent error 36.50\n",
            "Epoch    87, train loss 0.003938, train error 0.00,  val loss 1.789018, percent error 36.40\n",
            "Epoch    88, train loss 0.003924, train error 0.00,  val loss 1.790348, percent error 36.50\n",
            "Epoch    89, train loss 0.003911, train error 0.00,  val loss 1.790743, percent error 36.50\n",
            "Epoch    90, train loss 0.003897, train error 0.00,  val loss 1.791621, percent error 36.40\n",
            "Epoch    91, train loss 0.003884, train error 0.00,  val loss 1.792430, percent error 36.40\n",
            "Epoch    92, train loss 0.003871, train error 0.00,  val loss 1.792918, percent error 36.50\n",
            "Epoch    93, train loss 0.003858, train error 0.00,  val loss 1.794119, percent error 36.60\n",
            "Epoch    94, train loss 0.003845, train error 0.00,  val loss 1.795075, percent error 36.30\n",
            "Epoch    95, train loss 0.003832, train error 0.00,  val loss 1.795542, percent error 36.50\n",
            "Epoch    96, train loss 0.003819, train error 0.00,  val loss 1.796443, percent error 36.50\n",
            "Epoch    97, train loss 0.003806, train error 0.00,  val loss 1.797183, percent error 36.50\n",
            "Epoch    98, train loss 0.003793, train error 0.00,  val loss 1.798053, percent error 36.50\n",
            "Epoch    99, train loss 0.003781, train error 0.00,  val loss 1.798635, percent error 36.40\n"
          ]
        }
      ]
    },
    {
      "cell_type": "markdown",
      "metadata": {
        "id": "32d7db28"
      },
      "source": [
        "## Visualize results\n",
        "\n",
        "### Subtask:\n",
        "Plot the training and validation errors for both cases (with and without residuals) on the same graph for comparison.\n"
      ]
    },
    {
      "cell_type": "markdown",
      "metadata": {
        "id": "7c214310"
      },
      "source": [
        "**Reasoning**:\n",
        "Plot the training and validation errors for both cases (with and without residuals) on the same graph for comparison, following the instructions.\n",
        "\n"
      ]
    },
    {
      "cell_type": "code",
      "metadata": {
        "colab": {
          "base_uri": "https://localhost:8080/",
          "height": 472
        },
        "id": "dcc70518",
        "outputId": "1399c7b9-7320-4168-8f54-f6650a67f616"
      },
      "source": [
        "fig, ax = plt.subplots()\n",
        "ax.plot(errors_train_no_residuals, 'r-', label='Train (No Residuals)')\n",
        "ax.plot(errors_val_no_residuals, 'b-', label='Validation (No Residuals)')\n",
        "ax.plot(errors_train_with_residuals, 'g-', label='Train (With Residuals)')\n",
        "ax.plot(errors_val_with_residuals, 'orange', label='Validation (With Residuals)')\n",
        "ax.set_ylim(0, 100)\n",
        "ax.set_xlim(0, n_epoch)\n",
        "ax.set_xlabel('Epoch')\n",
        "ax.set_ylabel('Error')\n",
        "ax.set_title('Training and Validation Error with and without Residual Connections')\n",
        "ax.legend()\n",
        "plt.show()"
      ],
      "execution_count": 13,
      "outputs": [
        {
          "output_type": "display_data",
          "data": {
            "text/plain": [
              "<Figure size 640x480 with 1 Axes>"
            ],
            "image/png": "[encoded data removed]"
          },
          "metadata": {}
        }
      ]
    },
    {
      "cell_type": "markdown",
      "metadata": {
        "id": "3fe7357a"
      },
      "source": [
        "## Summary:\n",
        "\n",
        "### Data Analysis Key Findings\n",
        "\n",
        "*   The `ResidualNetwork` class was successfully modified to allow enabling or disabling residual connections via a `use_residuals` parameter.\n",
        "*   Both the network trained without residuals and the network trained with residuals achieved 0% training error after 22 epochs.\n",
        "*   The validation error for the network trained without residuals plateaued around 34% after the initial decrease.\n",
        "*   The validation error for the network trained with residuals stabilized around 36-40% after epoch 17.\n",
        "\n",
        "### Insights or Next Steps\n",
        "\n",
        "*   While both networks quickly achieved perfect training accuracy, neither significantly improved performance on the validation set beyond a certain point, suggesting potential overfitting in both cases.\n",
        "*   Future work could involve exploring regularization techniques or different network architectures to improve generalization performance and reduce the gap between training and validation error for both models.\n"
      ]
    }
  ]
}