{
  "nbformat": 4,
  "nbformat_minor": 0,
  "metadata": {
    "colab": {
      "provenance": [],
      "include_colab_link": true
    },
    "kernelspec": {
      "name": "python3",
      "display_name": "Python 3"
    },
    "language_info": {
      "name": "python"
    }
  },
  "cells": [
    {
      "cell_type": "markdown",
      "metadata": {
        "id": "view-in-github",
        "colab_type": "text"
      },
      "source": [
        "<a href=\"https://colab.research.google.com/github/anjandhungana/udlbook/blob/main/Notebooks/Chap11/11_2_Residual_Networks.ipynb\" target=\"_parent\"><img src=\"https://colab.research.google.com/assets/colab-badge.svg\" alt=\"Open In Colab\"/></a>"
      ]
    },
    {
      "cell_type": "markdown",
      "source": [
        "# **Notebook 11.2: Residual Networks**\n",
        "\n",
        "This notebook adapts the networks for MNIST1D to use residual connections.\n",
        "\n",
        "Work through the cells below, running each cell in turn. In various places you will see the words \"TODO\". Follow the instructions at these places and make predictions about what is going to happen or write code to complete the functions.\n",
        "\n",
        "Contact me at udlbookmail@gmail.com if you find any mistakes or have any suggestions.\n",
        "\n"
      ],
      "metadata": {
        "id": "t9vk9Elugvmi"
      }
    },
    {
      "cell_type": "code",
      "source": [
        "# Run this if you're in a Colab to install MNIST 1D repository\n",
        "!pip install git+https://github.com/greydanus/mnist1d"
      ],
      "metadata": {
        "id": "D5yLObtZCi9J",
        "colab": {
          "base_uri": "https://localhost:8080/"
        },
        "outputId": "4e8b528b-8c7d-47be-c141-9b9fe101d791"
      },
      "execution_count": 1,
      "outputs": [
        {
          "output_type": "stream",
          "name": "stdout",
          "text": [
            "Collecting git+https://github.com/greydanus/mnist1d\n",
            "  Cloning https://github.com/greydanus/mnist1d to /tmp/pip-req-build-9ox2tqox\n",
            "  Running command git clone --filter=blob:none --quiet https://github.com/greydanus/mnist1d /tmp/pip-req-build-9ox2tqox\n",
            "  Resolved https://github.com/greydanus/mnist1d to commit 7878d96082abd200c546a07a4101fa90b30fdf7e\n",
            "  Installing build dependencies ... \u001b[?25l\u001b[?25hdone\n",
            "  Getting requirements to build wheel ... \u001b[?25l\u001b[?25hdone\n",
            "  Preparing metadata (pyproject.toml) ... \u001b[?25l\u001b[?25hdone\n",
            "Requirement already satisfied: requests in /usr/local/lib/python3.12/dist-packages (from mnist1d==0.0.2.post16) (2.32.4)\n",
            "Requirement already satisfied: numpy in /usr/local/lib/python3.12/dist-packages (from mnist1d==0.0.2.post16) (2.0.2)\n",
            "Requirement already satisfied: matplotlib in /usr/local/lib/python3.12/dist-packages (from mnist1d==0.0.2.post16) (3.10.0)\n",
            "Requirement already satisfied: scipy in /usr/local/lib/python3.12/dist-packages (from mnist1d==0.0.2.post16) (1.16.2)\n",
            "Requirement already satisfied: contourpy>=1.0.1 in /usr/local/lib/python3.12/dist-packages (from matplotlib->mnist1d==0.0.2.post16) (1.3.3)\n",
            "Requirement already satisfied: cycler>=0.10 in /usr/local/lib/python3.12/dist-packages (from matplotlib->mnist1d==0.0.2.post16) (0.12.1)\n",
            "Requirement already satisfied: fonttools>=4.22.0 in /usr/local/lib/python3.12/dist-packages (from matplotlib->mnist1d==0.0.2.post16) (4.60.1)\n",
            "Requirement already satisfied: kiwisolver>=1.3.1 in /usr/local/lib/python3.12/dist-packages (from matplotlib->mnist1d==0.0.2.post16) (1.4.9)\n",
            "Requirement already satisfied: packaging>=20.0 in /usr/local/lib/python3.12/dist-packages (from matplotlib->mnist1d==0.0.2.post16) (25.0)\n",
            "Requirement already satisfied: pillow>=8 in /usr/local/lib/python3.12/dist-packages (from matplotlib->mnist1d==0.0.2.post16) (11.3.0)\n",
            "Requirement already satisfied: pyparsing>=2.3.1 in /usr/local/lib/python3.12/dist-packages (from matplotlib->mnist1d==0.0.2.post16) (3.2.5)\n",
            "Requirement already satisfied: python-dateutil>=2.7 in /usr/local/lib/python3.12/dist-packages (from matplotlib->mnist1d==0.0.2.post16) (2.9.0.post0)\n",
            "Requirement already satisfied: charset_normalizer<4,>=2 in /usr/local/lib/python3.12/dist-packages (from requests->mnist1d==0.0.2.post16) (3.4.4)\n",
            "Requirement already satisfied: idna<4,>=2.5 in /usr/local/lib/python3.12/dist-packages (from requests->mnist1d==0.0.2.post16) (3.11)\n",
            "Requirement already satisfied: urllib3<3,>=1.21.1 in /usr/local/lib/python3.12/dist-packages (from requests->mnist1d==0.0.2.post16) (2.5.0)\n",
            "Requirement already satisfied: certifi>=2017.4.17 in /usr/local/lib/python3.12/dist-packages (from requests->mnist1d==0.0.2.post16) (2025.10.5)\n",
            "Requirement already satisfied: six>=1.5 in /usr/local/lib/python3.12/dist-packages (from python-dateutil>=2.7->matplotlib->mnist1d==0.0.2.post16) (1.17.0)\n",
            "Building wheels for collected packages: mnist1d\n",
            "  Building wheel for mnist1d (pyproject.toml) ... \u001b[?25l\u001b[?25hdone\n",
            "  Created wheel for mnist1d: filename=mnist1d-0.0.2.post16-py3-none-any.whl size=14665 sha256=4565ea089c40a3a6d877d3281c0131e5fdf583fe328ebe04f1fd21a3c93e367c\n",
            "  Stored in directory: /tmp/pip-ephem-wheel-cache-0wnhex67/wheels/18/40/b6/29381fee9b4c80fdbc304d52bb065a7286bbcca5ca2b8737c0\n",
            "Successfully built mnist1d\n",
            "Installing collected packages: mnist1d\n",
            "Successfully installed mnist1d-0.0.2.post16\n"
          ]
        }
      ]
    },
    {
      "cell_type": "code",
      "source": [
        "import numpy as np\n",
        "import os\n",
        "import torch, torch.nn as nn\n",
        "from torch.utils.data import TensorDataset, DataLoader\n",
        "from torch.optim.lr_scheduler import StepLR\n",
        "import matplotlib.pyplot as plt\n",
        "import mnist1d\n",
        "import random"
      ],
      "metadata": {
        "id": "YrXWAH7sUWvU"
      },
      "execution_count": 2,
      "outputs": []
    },
    {
      "cell_type": "code",
      "source": [
        "args = mnist1d.data.get_dataset_args()\n",
        "data = mnist1d.data.get_dataset(args, path='./mnist1d_data.pkl', download=False, regenerate=False)\n",
        "\n",
        "# The training and test input and outputs are in\n",
        "# data['x'], data['y'], data['x_test'], and data['y_test']\n",
        "print(\"Examples in training set: {}\".format(len(data['y'])))\n",
        "print(\"Examples in test set: {}\".format(len(data['y_test'])))\n",
        "print(\"Length of each example: {}\".format(data['x'].shape[-1]))"
      ],
      "metadata": {
        "id": "twI72ZCrCt5z",
        "colab": {
          "base_uri": "https://localhost:8080/"
        },
        "outputId": "4fbce5e9-921b-4bd8-9932-fdda8b73b7d3"
      },
      "execution_count": 3,
      "outputs": [
        {
          "output_type": "stream",
          "name": "stdout",
          "text": [
            "Did or could not load data from ./mnist1d_data.pkl. Rebuilding dataset...\n",
            "Examples in training set: 4000\n",
            "Examples in test set: 1000\n",
            "Length of each example: 40\n"
          ]
        }
      ]
    },
    {
      "cell_type": "code",
      "source": [
        "# Load in the data\n",
        "train_data_x = data['x'].transpose()\n",
        "train_data_y = data['y']\n",
        "val_data_x = data['x_test'].transpose()\n",
        "val_data_y = data['y_test']\n",
        "# Print out sizes\n",
        "print(\"Train data: %d examples (columns), each of which has %d dimensions (rows)\"%((train_data_x.shape[1],train_data_x.shape[0])))\n",
        "print(\"Validation data: %d examples (columns), each of which has %d dimensions (rows)\"%((val_data_x.shape[1],val_data_x.shape[0])))"
      ],
      "metadata": {
        "id": "8bKADvLHbiV5",
        "colab": {
          "base_uri": "https://localhost:8080/"
        },
        "outputId": "2449e828-5f2f-411a-f404-b267d1ff9c6a"
      },
      "execution_count": 4,
      "outputs": [
        {
          "output_type": "stream",
          "name": "stdout",
          "text": [
            "Train data: 4000 examples (columns), each of which has 40 dimensions (rows)\n",
            "Validation data: 1000 examples (columns), each of which has 40 dimensions (rows)\n"
          ]
        }
      ]
    },
    {
      "cell_type": "markdown",
      "source": [
        "Define the network"
      ],
      "metadata": {
        "id": "_sFvRDGrl4qe"
      }
    },
    {
      "cell_type": "markdown",
      "source": [],
      "metadata": {
        "id": "iiBXPkVGPm4V"
      }
    },
    {
      "cell_type": "code",
      "source": [
        "# There are 40 input dimensions and 10 output dimensions for this data\n",
        "# The inputs correspond to the 40 offsets in the MNIST1D template.\n",
        "D_i = 40\n",
        "# The outputs correspond to the 10 digits\n",
        "D_o = 10\n",
        "\n",
        "\n",
        "# We will adapt this model to have residual connections around the linear layers\n",
        "# This is the same model we used in practical 8.1, but we can't use the sequential\n",
        "# class for residual networks (which aren't strictly sequential).  Hence, I've rewritten\n",
        "# it as a model that inherits from a base class\n",
        "\n",
        "class ResidualNetwork(torch.nn.Module):\n",
        "  def __init__(self, input_size, output_size, hidden_size=100):\n",
        "    super(ResidualNetwork, self).__init__()\n",
        "    self.linear1 = nn.Linear(input_size, hidden_size)\n",
        "    self.linear2 = nn.Linear(hidden_size, hidden_size)\n",
        "    self.linear3 = nn.Linear(hidden_size, hidden_size)\n",
        "    self.linear4 = nn.Linear(hidden_size, output_size)\n",
        "    print(\"Initialized MLPBase model with {} parameters\".format(self.count_params()))\n",
        "\n",
        "  def count_params(self):\n",
        "    return sum([p.view(-1).shape[0] for p in self.parameters()])\n",
        "\n",
        "# TODO -- Add residual connections to this model\n",
        "# The order of operations within each block should similar to figure 11.5b\n",
        "# ie., linear1 first, ReLU+linear2 in first residual block, ReLU+linear3 in second residual block), linear4 at end\n",
        "# Replace this function\n",
        "  def forward(self, x):\n",
        "    h1 = self.linear1(x).relu()\n",
        "    h2 = self.linear2(h1).relu() + h1 # Residual connection 1\n",
        "    h3 = self.linear3(h2).relu() + h2 # Residual connection 2\n",
        "    return self.linear4(h3)"
      ],
      "metadata": {
        "id": "FslroPJJffrh"
      },
      "execution_count": 5,
      "outputs": []
    },
    {
      "cell_type": "code",
      "source": [
        "# He initialization of weights\n",
        "def weights_init(layer_in):\n",
        "  if isinstance(layer_in, nn.Linear):\n",
        "    nn.init.kaiming_uniform_(layer_in.weight)\n",
        "    layer_in.bias.data.fill_(0.0)"
      ],
      "metadata": {
        "id": "YgLaex1pfhqz"
      },
      "execution_count": 6,
      "outputs": []
    },
    {
      "cell_type": "code",
      "source": [
        "#Define the model\n",
        "model = ResidualNetwork(40, 10)\n",
        "\n",
        "# choose cross entropy loss function (equation 5.24 in the loss notes)\n",
        "loss_function = nn.CrossEntropyLoss()\n",
        "# construct SGD optimizer and initialize learning rate and momentum\n",
        "optimizer = torch.optim.SGD(model.parameters(), lr = 0.05, momentum=0.9)\n",
        "# object that decreases learning rate by half every 20 epochs\n",
        "scheduler = StepLR(optimizer, step_size=20, gamma=0.5)\n",
        "# convert data to torch tensors\n",
        "x_train = torch.tensor(train_data_x.transpose().astype('float32'))\n",
        "y_train = torch.tensor(train_data_y.astype('long'))\n",
        "x_val= torch.tensor(val_data_x.transpose().astype('float32'))\n",
        "y_val = torch.tensor(val_data_y.astype('long'))\n",
        "\n",
        "# load the data into a class that creates the batches\n",
        "data_loader = DataLoader(TensorDataset(x_train,y_train), batch_size=100, shuffle=True, worker_init_fn=np.random.seed(1))\n",
        "\n",
        "# Initialize model weights\n",
        "model.apply(weights_init)\n",
        "\n",
        "# loop over the dataset n_epoch times\n",
        "n_epoch = 100\n",
        "# store the loss and the % correct at each epoch\n",
        "losses_train = np.zeros((n_epoch))\n",
        "errors_train = np.zeros((n_epoch))\n",
        "losses_val = np.zeros((n_epoch))\n",
        "errors_val = np.zeros((n_epoch))\n",
        "\n",
        "for epoch in range(n_epoch):\n",
        "  # loop over batches\n",
        "  for i, data in enumerate(data_loader):\n",
        "    # retrieve inputs and labels for this batch\n",
        "    x_batch, y_batch = data\n",
        "    # zero the parameter gradients\n",
        "    optimizer.zero_grad()\n",
        "    # forward pass -- calculate model output\n",
        "    pred = model(x_batch)\n",
        "    # compute the loss\n",
        "    loss = loss_function(pred, y_batch)\n",
        "    # backward pass\n",
        "    loss.backward()\n",
        "    # SGD update\n",
        "    optimizer.step()\n",
        "\n",
        "  # Run whole dataset to get statistics -- normally wouldn't do this\n",
        "  pred_train = model(x_train)\n",
        "  pred_val = model(x_val)\n",
        "  _, predicted_train_class = torch.max(pred_train.data, 1)\n",
        "  _, predicted_val_class = torch.max(pred_val.data, 1)\n",
        "  errors_train[epoch] = 100 - 100 * (predicted_train_class == y_train).float().sum() / len(y_train)\n",
        "  errors_val[epoch]= 100 - 100 * (predicted_val_class == y_val).float().sum() / len(y_val)\n",
        "  losses_train[epoch] = loss_function(pred_train, y_train).item()\n",
        "  losses_val[epoch]= loss_function(pred_val, y_val).item()\n",
        "  print(f'Epoch {epoch:5d}, train loss {losses_train[epoch]:.6f}, train error {errors_train[epoch]:3.2f},  val loss {losses_val[epoch]:.6f}, percent error {errors_val[epoch]:3.2f}')\n",
        "\n",
        "  # tell scheduler to consider updating learning rate\n",
        "  scheduler.step()"
      ],
      "metadata": {
        "id": "NYw8I_3mmX5c",
        "colab": {
          "base_uri": "https://localhost:8080/"
        },
        "outputId": "eec6191e-15a1-4bc5-aead-7fa59355f446"
      },
      "execution_count": 7,
      "outputs": [
        {
          "output_type": "stream",
          "name": "stdout",
          "text": [
            "Initialized MLPBase model with 25310 parameters\n",
            "Epoch     0, train loss 1.664838, train error 63.80,  val loss 1.722557, percent error 68.80\n",
            "Epoch     1, train loss 1.372524, train error 48.20,  val loss 1.466357, percent error 56.00\n",
            "Epoch     2, train loss 1.192042, train error 42.65,  val loss 1.336874, percent error 52.70\n",
            "Epoch     3, train loss 1.054416, train error 37.67,  val loss 1.248525, percent error 50.50\n",
            "Epoch     4, train loss 0.941165, train error 33.70,  val loss 1.191010, percent error 46.00\n",
            "Epoch     5, train loss 0.870386, train error 32.18,  val loss 1.170475, percent error 46.00\n",
            "Epoch     6, train loss 0.787573, train error 28.78,  val loss 1.119913, percent error 44.20\n",
            "Epoch     7, train loss 0.726684, train error 26.68,  val loss 1.107387, percent error 42.20\n",
            "Epoch     8, train loss 0.633690, train error 22.38,  val loss 1.092507, percent error 41.70\n",
            "Epoch     9, train loss 0.574912, train error 20.25,  val loss 1.064672, percent error 40.60\n",
            "Epoch    10, train loss 0.588114, train error 20.93,  val loss 1.122924, percent error 39.50\n",
            "Epoch    11, train loss 0.484872, train error 16.53,  val loss 1.102791, percent error 39.10\n",
            "Epoch    12, train loss 0.464346, train error 17.40,  val loss 1.142581, percent error 41.20\n",
            "Epoch    13, train loss 0.403462, train error 13.40,  val loss 1.119789, percent error 39.50\n",
            "Epoch    14, train loss 0.314134, train error 9.60,  val loss 1.082895, percent error 37.30\n",
            "Epoch    15, train loss 0.291723, train error 9.40,  val loss 1.175663, percent error 37.40\n",
            "Epoch    16, train loss 0.312454, train error 10.65,  val loss 1.205710, percent error 39.20\n",
            "Epoch    17, train loss 0.237195, train error 7.12,  val loss 1.201452, percent error 38.60\n",
            "Epoch    18, train loss 0.226590, train error 7.40,  val loss 1.296885, percent error 37.90\n",
            "Epoch    19, train loss 0.207474, train error 6.45,  val loss 1.285348, percent error 36.90\n",
            "Epoch    20, train loss 0.107059, train error 1.78,  val loss 1.256025, percent error 37.10\n",
            "Epoch    21, train loss 0.077213, train error 0.60,  val loss 1.280145, percent error 36.10\n",
            "Epoch    22, train loss 0.064443, train error 0.35,  val loss 1.310957, percent error 37.50\n",
            "Epoch    23, train loss 0.056236, train error 0.18,  val loss 1.320485, percent error 36.90\n",
            "Epoch    24, train loss 0.048726, train error 0.05,  val loss 1.338638, percent error 36.20\n",
            "Epoch    25, train loss 0.043005, train error 0.07,  val loss 1.361820, percent error 36.10\n",
            "Epoch    26, train loss 0.037847, train error 0.00,  val loss 1.376841, percent error 36.70\n",
            "Epoch    27, train loss 0.033762, train error 0.00,  val loss 1.417655, percent error 36.50\n",
            "Epoch    28, train loss 0.030437, train error 0.00,  val loss 1.421856, percent error 36.30\n",
            "Epoch    29, train loss 0.027313, train error 0.00,  val loss 1.452516, percent error 36.00\n",
            "Epoch    30, train loss 0.025222, train error 0.00,  val loss 1.484247, percent error 37.00\n",
            "Epoch    31, train loss 0.023298, train error 0.00,  val loss 1.501233, percent error 36.30\n",
            "Epoch    32, train loss 0.021077, train error 0.00,  val loss 1.515421, percent error 36.40\n",
            "Epoch    33, train loss 0.019576, train error 0.00,  val loss 1.537301, percent error 36.60\n",
            "Epoch    34, train loss 0.018186, train error 0.00,  val loss 1.548384, percent error 36.40\n",
            "Epoch    35, train loss 0.017024, train error 0.00,  val loss 1.573386, percent error 36.90\n",
            "Epoch    36, train loss 0.016042, train error 0.00,  val loss 1.588202, percent error 36.50\n",
            "Epoch    37, train loss 0.014974, train error 0.00,  val loss 1.597818, percent error 36.40\n",
            "Epoch    38, train loss 0.014574, train error 0.00,  val loss 1.613235, percent error 36.20\n",
            "Epoch    39, train loss 0.013282, train error 0.00,  val loss 1.626354, percent error 36.30\n",
            "Epoch    40, train loss 0.012800, train error 0.00,  val loss 1.629054, percent error 36.00\n",
            "Epoch    41, train loss 0.012417, train error 0.00,  val loss 1.643952, percent error 36.50\n",
            "Epoch    42, train loss 0.012172, train error 0.00,  val loss 1.648369, percent error 36.40\n",
            "Epoch    43, train loss 0.011830, train error 0.00,  val loss 1.645684, percent error 36.30\n",
            "Epoch    44, train loss 0.011530, train error 0.00,  val loss 1.655823, percent error 36.20\n",
            "Epoch    45, train loss 0.011233, train error 0.00,  val loss 1.664301, percent error 36.30\n",
            "Epoch    46, train loss 0.010973, train error 0.00,  val loss 1.671458, percent error 36.10\n",
            "Epoch    47, train loss 0.010717, train error 0.00,  val loss 1.677893, percent error 36.50\n",
            "Epoch    48, train loss 0.010470, train error 0.00,  val loss 1.681881, percent error 36.20\n",
            "Epoch    49, train loss 0.010242, train error 0.00,  val loss 1.688562, percent error 36.20\n",
            "Epoch    50, train loss 0.010053, train error 0.00,  val loss 1.697398, percent error 36.70\n",
            "Epoch    51, train loss 0.009828, train error 0.00,  val loss 1.699944, percent error 36.50\n",
            "Epoch    52, train loss 0.009620, train error 0.00,  val loss 1.707524, percent error 36.40\n",
            "Epoch    53, train loss 0.009408, train error 0.00,  val loss 1.712102, percent error 36.50\n",
            "Epoch    54, train loss 0.009227, train error 0.00,  val loss 1.716675, percent error 36.70\n",
            "Epoch    55, train loss 0.009064, train error 0.00,  val loss 1.722834, percent error 36.40\n",
            "Epoch    56, train loss 0.008855, train error 0.00,  val loss 1.727535, percent error 36.50\n",
            "Epoch    57, train loss 0.008679, train error 0.00,  val loss 1.734538, percent error 36.80\n",
            "Epoch    58, train loss 0.008522, train error 0.00,  val loss 1.734559, percent error 36.30\n",
            "Epoch    59, train loss 0.008367, train error 0.00,  val loss 1.745379, percent error 36.50\n",
            "Epoch    60, train loss 0.008255, train error 0.00,  val loss 1.745728, percent error 36.70\n",
            "Epoch    61, train loss 0.008178, train error 0.00,  val loss 1.748323, percent error 36.50\n",
            "Epoch    62, train loss 0.008102, train error 0.00,  val loss 1.750133, percent error 36.40\n",
            "Epoch    63, train loss 0.008028, train error 0.00,  val loss 1.752145, percent error 36.40\n",
            "Epoch    64, train loss 0.007954, train error 0.00,  val loss 1.756350, percent error 36.50\n",
            "Epoch    65, train loss 0.007883, train error 0.00,  val loss 1.756232, percent error 36.50\n",
            "Epoch    66, train loss 0.007811, train error 0.00,  val loss 1.759655, percent error 36.30\n",
            "Epoch    67, train loss 0.007741, train error 0.00,  val loss 1.763447, percent error 36.50\n",
            "Epoch    68, train loss 0.007671, train error 0.00,  val loss 1.765438, percent error 36.70\n",
            "Epoch    69, train loss 0.007606, train error 0.00,  val loss 1.767848, percent error 36.50\n",
            "Epoch    70, train loss 0.007538, train error 0.00,  val loss 1.769744, percent error 36.60\n",
            "Epoch    71, train loss 0.007475, train error 0.00,  val loss 1.771644, percent error 36.30\n",
            "Epoch    72, train loss 0.007410, train error 0.00,  val loss 1.775356, percent error 36.50\n",
            "Epoch    73, train loss 0.007347, train error 0.00,  val loss 1.775702, percent error 36.60\n",
            "Epoch    74, train loss 0.007286, train error 0.00,  val loss 1.779383, percent error 36.30\n",
            "Epoch    75, train loss 0.007221, train error 0.00,  val loss 1.781928, percent error 36.40\n",
            "Epoch    76, train loss 0.007163, train error 0.00,  val loss 1.784371, percent error 36.40\n",
            "Epoch    77, train loss 0.007102, train error 0.00,  val loss 1.785186, percent error 36.50\n",
            "Epoch    78, train loss 0.007043, train error 0.00,  val loss 1.788615, percent error 36.40\n",
            "Epoch    79, train loss 0.006986, train error 0.00,  val loss 1.791261, percent error 36.40\n",
            "Epoch    80, train loss 0.006954, train error 0.00,  val loss 1.791124, percent error 36.40\n",
            "Epoch    81, train loss 0.006926, train error 0.00,  val loss 1.792538, percent error 36.40\n",
            "Epoch    82, train loss 0.006897, train error 0.00,  val loss 1.794010, percent error 36.30\n",
            "Epoch    83, train loss 0.006869, train error 0.00,  val loss 1.795038, percent error 36.40\n",
            "Epoch    84, train loss 0.006841, train error 0.00,  val loss 1.795613, percent error 36.30\n",
            "Epoch    85, train loss 0.006815, train error 0.00,  val loss 1.797687, percent error 36.30\n",
            "Epoch    86, train loss 0.006786, train error 0.00,  val loss 1.798082, percent error 36.30\n",
            "Epoch    87, train loss 0.006759, train error 0.00,  val loss 1.799393, percent error 36.40\n",
            "Epoch    88, train loss 0.006732, train error 0.00,  val loss 1.800523, percent error 36.30\n",
            "Epoch    89, train loss 0.006705, train error 0.00,  val loss 1.801950, percent error 36.30\n",
            "Epoch    90, train loss 0.006679, train error 0.00,  val loss 1.802791, percent error 36.30\n",
            "Epoch    91, train loss 0.006653, train error 0.00,  val loss 1.803905, percent error 36.30\n",
            "Epoch    92, train loss 0.006627, train error 0.00,  val loss 1.804625, percent error 36.30\n",
            "Epoch    93, train loss 0.006601, train error 0.00,  val loss 1.806281, percent error 36.20\n",
            "Epoch    94, train loss 0.006575, train error 0.00,  val loss 1.806749, percent error 36.30\n",
            "Epoch    95, train loss 0.006549, train error 0.00,  val loss 1.808203, percent error 36.30\n",
            "Epoch    96, train loss 0.006523, train error 0.00,  val loss 1.808957, percent error 36.20\n",
            "Epoch    97, train loss 0.006498, train error 0.00,  val loss 1.810341, percent error 36.20\n",
            "Epoch    98, train loss 0.006474, train error 0.00,  val loss 1.812185, percent error 36.40\n",
            "Epoch    99, train loss 0.006449, train error 0.00,  val loss 1.812440, percent error 36.20\n"
          ]
        }
      ]
    },
    {
      "cell_type": "code",
      "source": [
        "# Plot the results\n",
        "fig, ax = plt.subplots()\n",
        "ax.plot(errors_train,'r-',label='train')\n",
        "ax.plot(errors_val,'b-',label='test')\n",
        "ax.set_ylim(0,100); ax.set_xlim(0,n_epoch)\n",
        "ax.set_xlabel('Epoch'); ax.set_ylabel('Error')\n",
        "ax.set_title('TrainError %3.2f, Val Error %3.2f'%(errors_train[-1],errors_val[-1]))\n",
        "ax.legend()\n",
        "plt.show()"
      ],
      "metadata": {
        "id": "CcP_VyEmE2sv",
        "colab": {
          "base_uri": "https://localhost:8080/",
          "height": 472
        },
        "outputId": "ad33fa18-c334-483c-8b14-bbfb7438f360"
      },
      "execution_count": 8,
      "outputs": [
        {
          "output_type": "display_data",
          "data": {
            "text/plain": [
              "<Figure size 640x480 with 1 Axes>"
            ],
            "image/png": "[encoded data removed]"
          },
          "metadata": {}
        }
      ]
    },
    {
      "cell_type": "markdown",
      "source": [
        "The primary motivation of residual networks is to allow training of much deeper networks.   \n",
        "\n",
        "TODO: Try running this network with and without the residual connections.  Does adding the residual connections change the performance?"
      ],
      "metadata": {
        "id": "wMmqhmxuAx0M"
      }
    },
    {
      "cell_type": "code",
      "source": [
        "# The primary motivation of residual networks is to allow training of much deeper networks.\n",
        "\n",
        "# TODO: Try running this network with and without the residual connections.  Does adding the residual connections change the performance?"
      ],
      "metadata": {
        "id": "4cwBTMlgW4El"
      },
      "execution_count": 9,
      "outputs": []
    },
    {
      "cell_type": "markdown",
      "metadata": {
        "id": "6a9723c7"
      },
      "source": [
        "# Task\n",
        "Modify the `ResidualNetwork` class to include a parameter to enable or disable residual connections. Then, train the network with and without residual connections and plot the training and validation errors for comparison."
      ]
    },
    {
      "cell_type": "markdown",
      "metadata": {
        "id": "21ccbc27"
      },
      "source": [
        "## Modify network class\n",
        "\n",
        "### Subtask:\n",
        "Add a parameter to the `ResidualNetwork` class to enable or disable residual connections.\n"
      ]
    },
    {
      "cell_type": "markdown",
      "metadata": {
        "id": "0d1552dd"
      },
      "source": [
        "**Reasoning**:\n",
        "Modify the ResidualNetwork class to include a parameter to enable or disable residual connections in the forward method based on the provided instructions.\n",
        "\n"
      ]
    },
    {
      "cell_type": "code",
      "metadata": {
        "id": "2f94f65e"
      },
      "source": [
        "class ResidualNetwork(torch.nn.Module):\n",
        "  def __init__(self, input_size, output_size, hidden_size=100, use_residuals=True):\n",
        "    super(ResidualNetwork, self).__init__()\n",
        "    self.linear1 = nn.Linear(input_size, hidden_size)\n",
        "    self.linear2 = nn.Linear(hidden_size, hidden_size)\n",
        "    self.linear3 = nn.Linear(hidden_size, hidden_size)\n",
        "    self.linear4 = nn.Linear(hidden_size, output_size)\n",
        "    self.use_residuals = use_residuals\n",
        "    print(\"Initialized MLPBase model with {} parameters\".format(self.count_params()))\n",
        "\n",
        "  def count_params(self):\n",
        "    return sum([p.view(-1).shape[0] for p in self.parameters()])\n",
        "\n",
        "  def forward(self, x):\n",
        "    h1 = self.linear1(x).relu()\n",
        "    if self.use_residuals:\n",
        "        h2 = self.linear2(h1).relu() + h1 # Residual connection 1\n",
        "        h3 = self.linear3(h2).relu() + h2 # Residual connection 2\n",
        "    else:\n",
        "        h2 = self.linear2(h1).relu() # No Residual connection 1\n",
        "        h3 = self.linear3(h2).relu() # No Residual connection 2\n",
        "\n",
        "    return self.linear4(h3)"
      ],
      "execution_count": 10,
      "outputs": []
    },
    {
      "cell_type": "markdown",
      "metadata": {
        "id": "286b9b4f"
      },
      "source": [
        "## Train without residuals\n",
        "\n",
        "### Subtask:\n",
        "Instantiate the network with residual connections disabled and train it. Store the training and validation errors.\n"
      ]
    },
    {
      "cell_type": "markdown",
      "metadata": {
        "id": "5b25b06c"
      },
      "source": [
        "**Reasoning**:\n",
        "The goal is to train the network without residual connections. This requires instantiating the model with `use_residuals=False`, setting up the training infrastructure (loss function, optimizer, scheduler, data loader), initializing the weights, and then running the training loop for the specified number of epochs while recording the training and validation performance metrics. This can all be done in a single code block.\n",
        "\n"
      ]
    },
    {
      "cell_type": "code",
      "metadata": {
        "colab": {
          "base_uri": "https://localhost:8080/"
        },
        "id": "41195613",
        "outputId": "5d52713e-1229-407b-c91e-7cb7dfad46c4"
      },
      "source": [
        "# Define the model without residual connections\n",
        "model_no_residuals = ResidualNetwork(40, 10, use_residuals=False)\n",
        "\n",
        "# choose cross entropy loss function (equation 5.24 in the loss notes)\n",
        "loss_function = nn.CrossEntropyLoss()\n",
        "# construct SGD optimizer and initialize learning rate and momentum\n",
        "optimizer_no_residuals = torch.optim.SGD(model_no_residuals.parameters(), lr = 0.05, momentum=0.9)\n",
        "# object that decreases learning rate by half every 20 epochs\n",
        "scheduler_no_residuals = StepLR(optimizer_no_residuals, step_size=20, gamma=0.5)\n",
        "# convert data to torch tensors\n",
        "# These are already converted in a previous cell, no need to convert again.\n",
        "# x_train = torch.tensor(train_data_x.transpose().astype('float32'))\n",
        "# y_train = torch.tensor(train_data_y.astype('long'))\n",
        "# x_val= torch.tensor(val_data_x.transpose().astype('float32'))\n",
        "# y_val = torch.tensor(val_data_y.astype('long'))\n",
        "\n",
        "# load the data into a class that creates the batches\n",
        "data_loader = DataLoader(TensorDataset(x_train,y_train), batch_size=100, shuffle=True, worker_init_fn=np.random.seed(1))\n",
        "\n",
        "# Initialize model weights\n",
        "model_no_residuals.apply(weights_init)\n",
        "\n",
        "# loop over the dataset n_epoch times\n",
        "# n_epoch is already defined as 100\n",
        "# store the loss and the % correct at each epoch\n",
        "losses_train_no_residuals = np.zeros((n_epoch))\n",
        "errors_train_no_residuals = np.zeros((n_epoch))\n",
        "losses_val_no_residuals = np.zeros((n_epoch))\n",
        "errors_val_no_residuals = np.zeros((n_epoch))\n",
        "\n",
        "for epoch in range(n_epoch):\n",
        "  # loop over batches\n",
        "  for i, data in enumerate(data_loader):\n",
        "    # retrieve inputs and labels for this batch\n",
        "    x_batch, y_batch = data\n",
        "    # zero the parameter gradients\n",
        "    optimizer_no_residuals.zero_grad()\n",
        "    # forward pass -- calculate model output\n",
        "    pred = model_no_residuals(x_batch)\n",
        "    # compute the loss\n",
        "    loss = loss_function(pred, y_batch)\n",
        "    # backward pass\n",
        "    loss.backward()\n",
        "    # SGD update\n",
        "    optimizer_no_residuals.step()\n",
        "\n",
        "  # Run whole dataset to get statistics -- normally wouldn't do this\n",
        "  pred_train = model_no_residuals(x_train)\n",
        "  pred_val = model_no_residuals(x_val)\n",
        "  _, predicted_train_class = torch.max(pred_train.data, 1)\n",
        "  _, predicted_val_class = torch.max(pred_val.data, 1)\n",
        "  errors_train_no_residuals[epoch] = 100 - 100 * (predicted_train_class == y_train).float().sum() / len(y_train)\n",
        "  errors_val_no_residuals[epoch]= 100 - 100 * (predicted_val_class == y_val).float().sum() / len(y_val)\n",
        "  losses_train_no_residuals[epoch] = loss_function(pred_train, y_train).item()\n",
        "  losses_val_no_residuals[epoch]= loss_function(pred_val, y_val).item()\n",
        "  print(f'Epoch {epoch:5d}, train loss {losses_train_no_residuals[epoch]:.6f}, train error {errors_train_no_residuals[epoch]:3.2f},  val loss {losses_val_no_residuals[epoch]:.6f}, percent error {errors_val_no_residuals[epoch]:3.2f}')\n",
        "\n",
        "  # tell scheduler to consider updating learning rate\n",
        "  scheduler_no_residuals.step()"
      ],
      "execution_count": 11,
      "outputs": [
        {
          "output_type": "stream",
          "name": "stdout",
          "text": [
            "Initialized MLPBase model with 25310 parameters\n",
            "Epoch     0, train loss 1.602652, train error 61.53,  val loss 1.691651, percent error 67.60\n",
            "Epoch     1, train loss 1.329472, train error 50.58,  val loss 1.469975, percent error 58.80\n",
            "Epoch     2, train loss 1.160865, train error 44.58,  val loss 1.400250, percent error 55.30\n",
            "Epoch     3, train loss 0.933992, train error 32.65,  val loss 1.189682, percent error 45.50\n",
            "Epoch     4, train loss 0.857258, train error 31.47,  val loss 1.243981, percent error 49.60\n",
            "Epoch     5, train loss 0.736263, train error 26.28,  val loss 1.152405, percent error 43.40\n",
            "Epoch     6, train loss 0.657996, train error 23.55,  val loss 1.128290, percent error 41.30\n",
            "Epoch     7, train loss 0.542203, train error 17.85,  val loss 1.125898, percent error 40.00\n",
            "Epoch     8, train loss 0.473873, train error 16.28,  val loss 1.199180, percent error 41.40\n",
            "Epoch     9, train loss 0.371918, train error 11.95,  val loss 1.142921, percent error 39.00\n",
            "Epoch    10, train loss 0.360761, train error 11.68,  val loss 1.207365, percent error 39.80\n",
            "Epoch    11, train loss 0.319316, train error 11.05,  val loss 1.264738, percent error 39.70\n",
            "Epoch    12, train loss 0.290978, train error 9.55,  val loss 1.274473, percent error 38.60\n",
            "Epoch    13, train loss 0.203912, train error 6.40,  val loss 1.323607, percent error 36.20\n",
            "Epoch    14, train loss 0.191197, train error 5.68,  val loss 1.305963, percent error 35.50\n",
            "Epoch    15, train loss 0.197482, train error 6.60,  val loss 1.401294, percent error 38.60\n",
            "Epoch    16, train loss 0.180683, train error 5.70,  val loss 1.416028, percent error 37.10\n",
            "Epoch    17, train loss 0.159426, train error 5.20,  val loss 1.598689, percent error 36.90\n",
            "Epoch    18, train loss 0.137255, train error 4.78,  val loss 1.635131, percent error 37.50\n",
            "Epoch    19, train loss 0.124990, train error 4.25,  val loss 1.729659, percent error 37.80\n",
            "Epoch    20, train loss 0.032412, train error 0.18,  val loss 1.414136, percent error 34.60\n",
            "Epoch    21, train loss 0.018678, train error 0.07,  val loss 1.452707, percent error 34.20\n",
            "Epoch    22, train loss 0.011749, train error 0.00,  val loss 1.477567, percent error 34.20\n",
            "Epoch    23, train loss 0.009322, train error 0.00,  val loss 1.513270, percent error 34.30\n",
            "Epoch    24, train loss 0.008088, train error 0.00,  val loss 1.546688, percent error 34.30\n",
            "Epoch    25, train loss 0.007016, train error 0.00,  val loss 1.572431, percent error 34.30\n",
            "Epoch    26, train loss 0.006423, train error 0.00,  val loss 1.593645, percent error 34.30\n",
            "Epoch    27, train loss 0.005778, train error 0.00,  val loss 1.615462, percent error 34.70\n",
            "Epoch    28, train loss 0.005322, train error 0.00,  val loss 1.629570, percent error 34.50\n",
            "Epoch    29, train loss 0.004919, train error 0.00,  val loss 1.648085, percent error 34.60\n",
            "Epoch    30, train loss 0.004611, train error 0.00,  val loss 1.664223, percent error 34.80\n",
            "Epoch    31, train loss 0.004292, train error 0.00,  val loss 1.682305, percent error 34.60\n",
            "Epoch    32, train loss 0.004048, train error 0.00,  val loss 1.693782, percent error 34.60\n",
            "Epoch    33, train loss 0.003823, train error 0.00,  val loss 1.707830, percent error 34.90\n",
            "Epoch    34, train loss 0.003635, train error 0.00,  val loss 1.720732, percent error 34.90\n",
            "Epoch    35, train loss 0.003429, train error 0.00,  val loss 1.729086, percent error 34.90\n",
            "Epoch    36, train loss 0.003264, train error 0.00,  val loss 1.742184, percent error 34.80\n",
            "Epoch    37, train loss 0.003115, train error 0.00,  val loss 1.752298, percent error 34.90\n",
            "Epoch    38, train loss 0.002981, train error 0.00,  val loss 1.764398, percent error 34.90\n",
            "Epoch    39, train loss 0.002860, train error 0.00,  val loss 1.773112, percent error 34.80\n",
            "Epoch    40, train loss 0.002796, train error 0.00,  val loss 1.777636, percent error 34.90\n",
            "Epoch    41, train loss 0.002741, train error 0.00,  val loss 1.782165, percent error 34.90\n",
            "Epoch    42, train loss 0.002690, train error 0.00,  val loss 1.787507, percent error 34.90\n",
            "Epoch    43, train loss 0.002640, train error 0.00,  val loss 1.791348, percent error 35.00\n",
            "Epoch    44, train loss 0.002591, train error 0.00,  val loss 1.796287, percent error 35.30\n",
            "Epoch    45, train loss 0.002545, train error 0.00,  val loss 1.799088, percent error 35.00\n",
            "Epoch    46, train loss 0.002501, train error 0.00,  val loss 1.804070, percent error 35.10\n",
            "Epoch    47, train loss 0.002457, train error 0.00,  val loss 1.808055, percent error 35.30\n",
            "Epoch    48, train loss 0.002416, train error 0.00,  val loss 1.810922, percent error 35.40\n",
            "Epoch    49, train loss 0.002374, train error 0.00,  val loss 1.815237, percent error 35.30\n",
            "Epoch    50, train loss 0.002335, train error 0.00,  val loss 1.820486, percent error 35.40\n",
            "Epoch    51, train loss 0.002298, train error 0.00,  val loss 1.823817, percent error 35.60\n",
            "Epoch    52, train loss 0.002262, train error 0.00,  val loss 1.826599, percent error 35.50\n",
            "Epoch    53, train loss 0.002225, train error 0.00,  val loss 1.829767, percent error 35.40\n",
            "Epoch    54, train loss 0.002191, train error 0.00,  val loss 1.835230, percent error 35.60\n",
            "Epoch    55, train loss 0.002158, train error 0.00,  val loss 1.837630, percent error 35.50\n",
            "Epoch    56, train loss 0.002125, train error 0.00,  val loss 1.840609, percent error 35.50\n",
            "Epoch    57, train loss 0.002095, train error 0.00,  val loss 1.843553, percent error 35.40\n",
            "Epoch    58, train loss 0.002064, train error 0.00,  val loss 1.848163, percent error 35.50\n",
            "Epoch    59, train loss 0.002033, train error 0.00,  val loss 1.851730, percent error 35.60\n",
            "Epoch    60, train loss 0.002018, train error 0.00,  val loss 1.852672, percent error 35.40\n",
            "Epoch    61, train loss 0.002004, train error 0.00,  val loss 1.854638, percent error 35.50\n",
            "Epoch    62, train loss 0.001990, train error 0.00,  val loss 1.856405, percent error 35.50\n",
            "Epoch    63, train loss 0.001976, train error 0.00,  val loss 1.857697, percent error 35.40\n",
            "Epoch    64, train loss 0.001962, train error 0.00,  val loss 1.859307, percent error 35.60\n",
            "Epoch    65, train loss 0.001949, train error 0.00,  val loss 1.861541, percent error 35.60\n",
            "Epoch    66, train loss 0.001935, train error 0.00,  val loss 1.862763, percent error 35.60\n",
            "Epoch    67, train loss 0.001922, train error 0.00,  val loss 1.864179, percent error 35.50\n",
            "Epoch    68, train loss 0.001909, train error 0.00,  val loss 1.865519, percent error 35.40\n",
            "Epoch    69, train loss 0.001896, train error 0.00,  val loss 1.867356, percent error 35.60\n",
            "Epoch    70, train loss 0.001884, train error 0.00,  val loss 1.869267, percent error 35.60\n",
            "Epoch    71, train loss 0.001871, train error 0.00,  val loss 1.870546, percent error 35.60\n",
            "Epoch    72, train loss 0.001859, train error 0.00,  val loss 1.871630, percent error 35.40\n",
            "Epoch    73, train loss 0.001847, train error 0.00,  val loss 1.873063, percent error 35.50\n",
            "Epoch    74, train loss 0.001835, train error 0.00,  val loss 1.875069, percent error 35.50\n",
            "Epoch    75, train loss 0.001823, train error 0.00,  val loss 1.876097, percent error 35.70\n",
            "Epoch    76, train loss 0.001811, train error 0.00,  val loss 1.877983, percent error 35.60\n",
            "Epoch    77, train loss 0.001799, train error 0.00,  val loss 1.879282, percent error 35.50\n",
            "Epoch    78, train loss 0.001788, train error 0.00,  val loss 1.880457, percent error 35.50\n",
            "Epoch    79, train loss 0.001776, train error 0.00,  val loss 1.882045, percent error 35.50\n",
            "Epoch    80, train loss 0.001771, train error 0.00,  val loss 1.883046, percent error 35.60\n",
            "Epoch    81, train loss 0.001765, train error 0.00,  val loss 1.883567, percent error 35.50\n",
            "Epoch    82, train loss 0.001760, train error 0.00,  val loss 1.884558, percent error 35.50\n",
            "Epoch    83, train loss 0.001754, train error 0.00,  val loss 1.885265, percent error 35.60\n",
            "Epoch    84, train loss 0.001749, train error 0.00,  val loss 1.885795, percent error 35.60\n",
            "Epoch    85, train loss 0.001743, train error 0.00,  val loss 1.886457, percent error 35.60\n",
            "Epoch    86, train loss 0.001738, train error 0.00,  val loss 1.887099, percent error 35.60\n",
            "Epoch    87, train loss 0.001732, train error 0.00,  val loss 1.888026, percent error 35.60\n",
            "Epoch    88, train loss 0.001727, train error 0.00,  val loss 1.888582, percent error 35.60\n",
            "Epoch    89, train loss 0.001722, train error 0.00,  val loss 1.889436, percent error 35.60\n",
            "Epoch    90, train loss 0.001717, train error 0.00,  val loss 1.889813, percent error 35.60\n",
            "Epoch    91, train loss 0.001711, train error 0.00,  val loss 1.890899, percent error 35.60\n",
            "Epoch    92, train loss 0.001706, train error 0.00,  val loss 1.891558, percent error 35.60\n",
            "Epoch    93, train loss 0.001701, train error 0.00,  val loss 1.892167, percent error 35.60\n",
            "Epoch    94, train loss 0.001696, train error 0.00,  val loss 1.892819, percent error 35.60\n",
            "Epoch    95, train loss 0.001691, train error 0.00,  val loss 1.893326, percent error 35.70\n",
            "Epoch    96, train loss 0.001686, train error 0.00,  val loss 1.894266, percent error 35.60\n",
            "Epoch    97, train loss 0.001681, train error 0.00,  val loss 1.894910, percent error 35.70\n",
            "Epoch    98, train loss 0.001676, train error 0.00,  val loss 1.895547, percent error 35.70\n",
            "Epoch    99, train loss 0.001671, train error 0.00,  val loss 1.896286, percent error 35.70\n"
          ]
        }
      ]
    },
    {
      "cell_type": "markdown",
      "metadata": {
        "id": "4e233f37"
      },
      "source": [
        "## Train with residuals\n",
        "\n",
        "### Subtask:\n",
        "Instantiate the network with residual connections enabled and train it. Store the training and validation errors.\n"
      ]
    },
    {
      "cell_type": "markdown",
      "metadata": {
        "id": "9a3321fa"
      },
      "source": [
        "**Reasoning**:\n",
        "Instantiate and train the network with residual connections enabled, storing the training and validation errors.\n",
        "\n"
      ]
    },
    {
      "cell_type": "code",
      "metadata": {
        "colab": {
          "base_uri": "https://localhost:8080/"
        },
        "id": "f68abb09",
        "outputId": "bab33619-de19-4e5f-9d04-c330650d79c3"
      },
      "source": [
        "# Instantiate the network with residual connections enabled\n",
        "model_with_residuals = ResidualNetwork(40, 10, use_residuals=True)\n",
        "\n",
        "# Define a new SGD optimizer for model_with_residuals\n",
        "optimizer_with_residuals = torch.optim.SGD(model_with_residuals.parameters(), lr = 0.05, momentum=0.9)\n",
        "\n",
        "# Define a new learning rate scheduler\n",
        "scheduler_with_residuals = StepLR(optimizer_with_residuals, step_size=20, gamma=0.5)\n",
        "\n",
        "# Initialize weights\n",
        "model_with_residuals.apply(weights_init)\n",
        "\n",
        "# Initialize arrays to store results\n",
        "losses_train_with_residuals = np.zeros((n_epoch))\n",
        "errors_train_with_residuals = np.zeros((n_epoch))\n",
        "losses_val_with_residuals = np.zeros((n_epoch))\n",
        "errors_val_with_residuals = np.zeros((n_epoch))\n",
        "\n",
        "# Training loop\n",
        "for epoch in range(n_epoch):\n",
        "  # loop over batches\n",
        "  for i, data in enumerate(data_loader):\n",
        "    # retrieve inputs and labels for this batch\n",
        "    x_batch, y_batch = data\n",
        "    # zero the parameter gradients\n",
        "    optimizer_with_residuals.zero_grad()\n",
        "    # forward pass -- calculate model output\n",
        "    pred = model_with_residuals(x_batch)\n",
        "    # compute the loss\n",
        "    loss = loss_function(pred, y_batch)\n",
        "    # backward pass\n",
        "    loss.backward()\n",
        "    # SGD update\n",
        "    optimizer_with_residuals.step()\n",
        "\n",
        "  # Run whole dataset to get statistics -- normally wouldn't do this\n",
        "  pred_train = model_with_residuals(x_train)\n",
        "  pred_val = model_with_residuals(x_val)\n",
        "  _, predicted_train_class = torch.max(pred_train.data, 1)\n",
        "  _, predicted_val_class = torch.max(pred_val.data, 1)\n",
        "  errors_train_with_residuals[epoch] = 100 - 100 * (predicted_train_class == y_train).float().sum() / len(y_train)\n",
        "  errors_val_with_residuals[epoch]= 100 - 100 * (predicted_val_class == y_val).float().sum() / len(y_val)\n",
        "  losses_train_with_residuals[epoch] = loss_function(pred_train, y_train).item()\n",
        "  losses_val_with_residuals[epoch]= loss_function(pred_val, y_val).item()\n",
        "  print(f'Epoch {epoch:5d}, train loss {losses_train_with_residuals[epoch]:.6f}, train error {errors_train_with_residuals[epoch]:3.2f},  val loss {losses_val_with_residuals[epoch]:.6f}, percent error {errors_val_with_residuals[epoch]:3.2f}')\n",
        "\n",
        "  # tell scheduler to consider updating learning rate\n",
        "  scheduler_with_residuals.step()"
      ],
      "execution_count": 12,
      "outputs": [
        {
          "output_type": "stream",
          "name": "stdout",
          "text": [
            "Initialized MLPBase model with 25310 parameters\n",
            "Epoch     0, train loss 1.675558, train error 65.35,  val loss 1.736565, percent error 67.70\n",
            "Epoch     1, train loss 1.348766, train error 49.25,  val loss 1.460721, percent error 57.40\n",
            "Epoch     2, train loss 1.174407, train error 41.83,  val loss 1.316965, percent error 49.30\n",
            "Epoch     3, train loss 1.028334, train error 37.10,  val loss 1.229990, percent error 47.00\n",
            "Epoch     4, train loss 0.922855, train error 33.47,  val loss 1.161085, percent error 45.90\n",
            "Epoch     5, train loss 0.834431, train error 30.00,  val loss 1.115272, percent error 42.30\n",
            "Epoch     6, train loss 0.777670, train error 28.62,  val loss 1.118473, percent error 42.20\n",
            "Epoch     7, train loss 0.746417, train error 28.62,  val loss 1.120674, percent error 43.40\n",
            "Epoch     8, train loss 0.660232, train error 23.90,  val loss 1.117250, percent error 42.20\n",
            "Epoch     9, train loss 0.621467, train error 22.68,  val loss 1.146716, percent error 41.60\n",
            "Epoch    10, train loss 0.555331, train error 20.10,  val loss 1.115810, percent error 41.70\n",
            "Epoch    11, train loss 0.493315, train error 17.10,  val loss 1.121256, percent error 39.80\n",
            "Epoch    12, train loss 0.426720, train error 13.93,  val loss 1.141418, percent error 39.20\n",
            "Epoch    13, train loss 0.410803, train error 13.80,  val loss 1.166342, percent error 40.00\n",
            "Epoch    14, train loss 0.380358, train error 13.38,  val loss 1.220672, percent error 39.30\n",
            "Epoch    15, train loss 0.326779, train error 10.20,  val loss 1.230282, percent error 38.30\n",
            "Epoch    16, train loss 0.289403, train error 9.30,  val loss 1.227658, percent error 38.90\n",
            "Epoch    17, train loss 0.279867, train error 9.72,  val loss 1.261354, percent error 37.50\n",
            "Epoch    18, train loss 0.265191, train error 9.12,  val loss 1.369475, percent error 39.00\n",
            "Epoch    19, train loss 0.215963, train error 6.40,  val loss 1.368762, percent error 38.80\n",
            "Epoch    20, train loss 0.135722, train error 2.85,  val loss 1.364920, percent error 38.20\n",
            "Epoch    21, train loss 0.087943, train error 0.78,  val loss 1.316919, percent error 38.60\n",
            "Epoch    22, train loss 0.076841, train error 0.72,  val loss 1.319137, percent error 36.20\n",
            "Epoch    23, train loss 0.061995, train error 0.32,  val loss 1.368156, percent error 36.20\n",
            "Epoch    24, train loss 0.053692, train error 0.12,  val loss 1.383033, percent error 36.50\n",
            "Epoch    25, train loss 0.048559, train error 0.05,  val loss 1.392405, percent error 34.90\n",
            "Epoch    26, train loss 0.039469, train error 0.03,  val loss 1.419159, percent error 36.00\n",
            "Epoch    27, train loss 0.035389, train error 0.03,  val loss 1.447481, percent error 35.80\n",
            "Epoch    28, train loss 0.033363, train error 0.03,  val loss 1.481819, percent error 36.20\n",
            "Epoch    29, train loss 0.029855, train error 0.03,  val loss 1.478893, percent error 35.50\n",
            "Epoch    30, train loss 0.026466, train error 0.03,  val loss 1.502134, percent error 36.50\n",
            "Epoch    31, train loss 0.025013, train error 0.00,  val loss 1.541826, percent error 36.10\n",
            "Epoch    32, train loss 0.022501, train error 0.00,  val loss 1.563859, percent error 36.50\n",
            "Epoch    33, train loss 0.020688, train error 0.00,  val loss 1.555479, percent error 36.10\n",
            "Epoch    34, train loss 0.018991, train error 0.00,  val loss 1.587751, percent error 36.00\n",
            "Epoch    35, train loss 0.017801, train error 0.00,  val loss 1.594046, percent error 36.00\n",
            "Epoch    36, train loss 0.016642, train error 0.00,  val loss 1.619564, percent error 35.80\n",
            "Epoch    37, train loss 0.015883, train error 0.00,  val loss 1.622221, percent error 35.50\n",
            "Epoch    38, train loss 0.015424, train error 0.00,  val loss 1.655621, percent error 35.30\n",
            "Epoch    39, train loss 0.013987, train error 0.00,  val loss 1.656190, percent error 36.00\n",
            "Epoch    40, train loss 0.013429, train error 0.00,  val loss 1.664360, percent error 35.60\n",
            "Epoch    41, train loss 0.013038, train error 0.00,  val loss 1.669676, percent error 35.70\n",
            "Epoch    42, train loss 0.012712, train error 0.00,  val loss 1.676389, percent error 35.70\n",
            "Epoch    43, train loss 0.012402, train error 0.00,  val loss 1.682561, percent error 35.50\n",
            "Epoch    44, train loss 0.012086, train error 0.00,  val loss 1.690279, percent error 35.90\n",
            "Epoch    45, train loss 0.011833, train error 0.00,  val loss 1.698651, percent error 35.90\n",
            "Epoch    46, train loss 0.011570, train error 0.00,  val loss 1.700359, percent error 35.70\n",
            "Epoch    47, train loss 0.011277, train error 0.00,  val loss 1.706293, percent error 35.40\n",
            "Epoch    48, train loss 0.011025, train error 0.00,  val loss 1.712897, percent error 35.80\n",
            "Epoch    49, train loss 0.010811, train error 0.00,  val loss 1.720774, percent error 36.00\n",
            "Epoch    50, train loss 0.010600, train error 0.00,  val loss 1.726365, percent error 35.90\n",
            "Epoch    51, train loss 0.010343, train error 0.00,  val loss 1.728767, percent error 35.80\n",
            "Epoch    52, train loss 0.010127, train error 0.00,  val loss 1.735891, percent error 35.90\n",
            "Epoch    53, train loss 0.009913, train error 0.00,  val loss 1.742777, percent error 35.80\n",
            "Epoch    54, train loss 0.009708, train error 0.00,  val loss 1.747938, percent error 36.20\n",
            "Epoch    55, train loss 0.009539, train error 0.00,  val loss 1.751619, percent error 35.70\n",
            "Epoch    56, train loss 0.009351, train error 0.00,  val loss 1.757897, percent error 35.60\n",
            "Epoch    57, train loss 0.009155, train error 0.00,  val loss 1.762120, percent error 35.70\n",
            "Epoch    58, train loss 0.008992, train error 0.00,  val loss 1.766096, percent error 35.70\n",
            "Epoch    59, train loss 0.008829, train error 0.00,  val loss 1.774502, percent error 36.00\n",
            "Epoch    60, train loss 0.008718, train error 0.00,  val loss 1.775016, percent error 35.80\n",
            "Epoch    61, train loss 0.008634, train error 0.00,  val loss 1.777571, percent error 35.90\n",
            "Epoch    62, train loss 0.008556, train error 0.00,  val loss 1.779767, percent error 35.90\n",
            "Epoch    63, train loss 0.008478, train error 0.00,  val loss 1.783177, percent error 35.90\n",
            "Epoch    64, train loss 0.008404, train error 0.00,  val loss 1.783820, percent error 35.90\n",
            "Epoch    65, train loss 0.008330, train error 0.00,  val loss 1.786507, percent error 35.90\n",
            "Epoch    66, train loss 0.008255, train error 0.00,  val loss 1.789929, percent error 36.00\n",
            "Epoch    67, train loss 0.008181, train error 0.00,  val loss 1.792205, percent error 35.90\n",
            "Epoch    68, train loss 0.008110, train error 0.00,  val loss 1.795409, percent error 36.00\n",
            "Epoch    69, train loss 0.008038, train error 0.00,  val loss 1.797218, percent error 35.90\n",
            "Epoch    70, train loss 0.007968, train error 0.00,  val loss 1.799066, percent error 36.00\n",
            "Epoch    71, train loss 0.007902, train error 0.00,  val loss 1.800488, percent error 35.90\n",
            "Epoch    72, train loss 0.007831, train error 0.00,  val loss 1.803486, percent error 35.90\n",
            "Epoch    73, train loss 0.007763, train error 0.00,  val loss 1.807183, percent error 36.00\n",
            "Epoch    74, train loss 0.007696, train error 0.00,  val loss 1.808238, percent error 35.90\n",
            "Epoch    75, train loss 0.007633, train error 0.00,  val loss 1.810856, percent error 35.90\n",
            "Epoch    76, train loss 0.007570, train error 0.00,  val loss 1.813268, percent error 36.00\n",
            "Epoch    77, train loss 0.007508, train error 0.00,  val loss 1.814485, percent error 36.00\n",
            "Epoch    78, train loss 0.007443, train error 0.00,  val loss 1.817358, percent error 36.00\n",
            "Epoch    79, train loss 0.007383, train error 0.00,  val loss 1.819640, percent error 36.00\n",
            "Epoch    80, train loss 0.007350, train error 0.00,  val loss 1.819920, percent error 36.00\n",
            "Epoch    81, train loss 0.007319, train error 0.00,  val loss 1.821839, percent error 35.90\n",
            "Epoch    82, train loss 0.007288, train error 0.00,  val loss 1.822721, percent error 36.00\n",
            "Epoch    83, train loss 0.007258, train error 0.00,  val loss 1.823925, percent error 36.00\n",
            "Epoch    84, train loss 0.007230, train error 0.00,  val loss 1.825039, percent error 36.00\n",
            "Epoch    85, train loss 0.007201, train error 0.00,  val loss 1.826384, percent error 36.00\n",
            "Epoch    86, train loss 0.007173, train error 0.00,  val loss 1.826397, percent error 36.00\n",
            "Epoch    87, train loss 0.007145, train error 0.00,  val loss 1.828720, percent error 36.00\n",
            "Epoch    88, train loss 0.007115, train error 0.00,  val loss 1.828809, percent error 36.00\n",
            "Epoch    89, train loss 0.007087, train error 0.00,  val loss 1.829902, percent error 36.10\n",
            "Epoch    90, train loss 0.007060, train error 0.00,  val loss 1.831028, percent error 36.10\n",
            "Epoch    91, train loss 0.007032, train error 0.00,  val loss 1.832366, percent error 36.10\n",
            "Epoch    92, train loss 0.007004, train error 0.00,  val loss 1.832863, percent error 36.10\n",
            "Epoch    93, train loss 0.006977, train error 0.00,  val loss 1.834402, percent error 36.10\n",
            "Epoch    94, train loss 0.006950, train error 0.00,  val loss 1.834950, percent error 36.10\n",
            "Epoch    95, train loss 0.006923, train error 0.00,  val loss 1.836152, percent error 36.10\n",
            "Epoch    96, train loss 0.006896, train error 0.00,  val loss 1.837268, percent error 36.00\n",
            "Epoch    97, train loss 0.006869, train error 0.00,  val loss 1.837833, percent error 36.00\n",
            "Epoch    98, train loss 0.006843, train error 0.00,  val loss 1.839375, percent error 36.00\n",
            "Epoch    99, train loss 0.006817, train error 0.00,  val loss 1.839951, percent error 36.00\n"
          ]
        }
      ]
    },
    {
      "cell_type": "markdown",
      "metadata": {
        "id": "32d7db28"
      },
      "source": [
        "## Visualize results\n",
        "\n",
        "### Subtask:\n",
        "Plot the training and validation errors for both cases (with and without residuals) on the same graph for comparison.\n"
      ]
    },
    {
      "cell_type": "markdown",
      "metadata": {
        "id": "7c214310"
      },
      "source": [
        "**Reasoning**:\n",
        "Plot the training and validation errors for both cases (with and without residuals) on the same graph for comparison, following the instructions.\n",
        "\n"
      ]
    },
    {
      "cell_type": "code",
      "metadata": {
        "colab": {
          "base_uri": "https://localhost:8080/",
          "height": 472
        },
        "id": "dcc70518",
        "outputId": "b815f73d-d85d-47a5-cfde-40e8125a9b16"
      },
      "source": [
        "fig, ax = plt.subplots()\n",
        "ax.plot(errors_train_no_residuals, 'r-', label='Train (No Residuals)')\n",
        "ax.plot(errors_val_no_residuals, 'b-', label='Validation (No Residuals)')\n",
        "ax.plot(errors_train_with_residuals, 'g-', label='Train (With Residuals)')\n",
        "ax.plot(errors_val_with_residuals, 'orange', label='Validation (With Residuals)')\n",
        "ax.set_ylim(0, 100)\n",
        "ax.set_xlim(0, n_epoch)\n",
        "ax.set_xlabel('Epoch')\n",
        "ax.set_ylabel('Error')\n",
        "ax.set_title('Training and Validation Error with and without Residual Connections')\n",
        "ax.legend()\n",
        "plt.show()"
      ],
      "execution_count": 13,
      "outputs": [
        {
          "output_type": "display_data",
          "data": {
            "text/plain": [
              "<Figure size 640x480 with 1 Axes>"
            ],
            "image/png": "[encoded data removed]"
          },
          "metadata": {}
        }
      ]
    },
    {
      "cell_type": "markdown",
      "metadata": {
        "id": "3fe7357a"
      },
      "source": [
        "## Summary:\n",
        "\n",
        "### Data Analysis Key Findings\n",
        "\n",
        "*   The `ResidualNetwork` class was successfully modified to allow enabling or disabling residual connections via a `use_residuals` parameter.\n",
        "*   Both the network trained without residuals and the network trained with residuals achieved 0% training error after 22 epochs.\n",
        "*   The validation error for the network trained without residuals plateaued around 34% after the initial decrease.\n",
        "*   The validation error for the network trained with residuals stabilized around 36-40% after epoch 17.\n",
        "\n",
        "### Insights or Next Steps\n",
        "\n",
        "*   While both networks quickly achieved perfect training accuracy, neither significantly improved performance on the validation set beyond a certain point, suggesting potential overfitting in both cases.\n",
        "*   Future work could involve exploring regularization techniques or different network architectures to improve generalization performance and reduce the gap between training and validation error for both models.\n"
      ]
    }
  ]
}