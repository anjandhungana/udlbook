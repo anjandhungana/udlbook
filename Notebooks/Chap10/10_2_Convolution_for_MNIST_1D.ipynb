{
  "nbformat": 4,
  "nbformat_minor": 0,
  "metadata": {
    "colab": {
      "provenance": [],
      "include_colab_link": true
    },
    "kernelspec": {
      "name": "python3",
      "display_name": "Python 3"
    },
    "language_info": {
      "name": "python"
    }
  },
  "cells": [
    {
      "cell_type": "markdown",
      "metadata": {
        "id": "view-in-github",
        "colab_type": "text"
      },
      "source": [
        "<a href=\"https://colab.research.google.com/github/anjandhungana/udlbook/blob/main/Notebooks/Chap10/10_2_Convolution_for_MNIST_1D.ipynb\" target=\"_parent\"><img src=\"https://colab.research.google.com/assets/colab-badge.svg\" alt=\"Open In Colab\"/></a>"
      ]
    },
    {
      "cell_type": "markdown",
      "source": [
        "# **Notebook 10.2: Convolution for MNIST-1D**\n",
        "\n",
        "This notebook investigates a 1D convolutional network for MNIST-1D as in figure 10.7 and 10.8a.\n",
        "\n",
        "Work through the cells below, running each cell in turn. In various places you will see the words \"TODO\". Follow the instructions at these places and make predictions about what is going to happen or write code to complete the functions.\n",
        "\n",
        "Contact me at udlbookmail@gmail.com if you find any mistakes or have any suggestions.\n",
        "\n"
      ],
      "metadata": {
        "id": "t9vk9Elugvmi"
      }
    },
    {
      "cell_type": "code",
      "source": [
        "# Run this if you're in a Colab to install MNIST 1D repository\n",
        "!pip install git+https://github.com/greydanus/mnist1d"
      ],
      "metadata": {
        "id": "D5yLObtZCi9J",
        "colab": {
          "base_uri": "https://localhost:8080/"
        },
        "outputId": "55ada9eb-19e7-4a68-cc1c-d5f4c7e2f186"
      },
      "execution_count": 1,
      "outputs": [
        {
          "output_type": "stream",
          "name": "stdout",
          "text": [
            "Collecting git+https://github.com/greydanus/mnist1d\n",
            "  Cloning https://github.com/greydanus/mnist1d to /tmp/pip-req-build-we883r6b\n",
            "  Running command git clone --filter=blob:none --quiet https://github.com/greydanus/mnist1d /tmp/pip-req-build-we883r6b\n",
            "  Resolved https://github.com/greydanus/mnist1d to commit 7878d96082abd200c546a07a4101fa90b30fdf7e\n",
            "  Installing build dependencies ... \u001b[?25l\u001b[?25hdone\n",
            "  Getting requirements to build wheel ... \u001b[?25l\u001b[?25hdone\n",
            "  Preparing metadata (pyproject.toml) ... \u001b[?25l\u001b[?25hdone\n",
            "Requirement already satisfied: requests in /usr/local/lib/python3.12/dist-packages (from mnist1d==0.0.2.post16) (2.32.4)\n",
            "Requirement already satisfied: numpy in /usr/local/lib/python3.12/dist-packages (from mnist1d==0.0.2.post16) (2.0.2)\n",
            "Requirement already satisfied: matplotlib in /usr/local/lib/python3.12/dist-packages (from mnist1d==0.0.2.post16) (3.10.0)\n",
            "Requirement already satisfied: scipy in /usr/local/lib/python3.12/dist-packages (from mnist1d==0.0.2.post16) (1.16.2)\n",
            "Requirement already satisfied: contourpy>=1.0.1 in /usr/local/lib/python3.12/dist-packages (from matplotlib->mnist1d==0.0.2.post16) (1.3.3)\n",
            "Requirement already satisfied: cycler>=0.10 in /usr/local/lib/python3.12/dist-packages (from matplotlib->mnist1d==0.0.2.post16) (0.12.1)\n",
            "Requirement already satisfied: fonttools>=4.22.0 in /usr/local/lib/python3.12/dist-packages (from matplotlib->mnist1d==0.0.2.post16) (4.60.1)\n",
            "Requirement already satisfied: kiwisolver>=1.3.1 in /usr/local/lib/python3.12/dist-packages (from matplotlib->mnist1d==0.0.2.post16) (1.4.9)\n",
            "Requirement already satisfied: packaging>=20.0 in /usr/local/lib/python3.12/dist-packages (from matplotlib->mnist1d==0.0.2.post16) (25.0)\n",
            "Requirement already satisfied: pillow>=8 in /usr/local/lib/python3.12/dist-packages (from matplotlib->mnist1d==0.0.2.post16) (11.3.0)\n",
            "Requirement already satisfied: pyparsing>=2.3.1 in /usr/local/lib/python3.12/dist-packages (from matplotlib->mnist1d==0.0.2.post16) (3.2.5)\n",
            "Requirement already satisfied: python-dateutil>=2.7 in /usr/local/lib/python3.12/dist-packages (from matplotlib->mnist1d==0.0.2.post16) (2.9.0.post0)\n",
            "Requirement already satisfied: charset_normalizer<4,>=2 in /usr/local/lib/python3.12/dist-packages (from requests->mnist1d==0.0.2.post16) (3.4.4)\n",
            "Requirement already satisfied: idna<4,>=2.5 in /usr/local/lib/python3.12/dist-packages (from requests->mnist1d==0.0.2.post16) (3.11)\n",
            "Requirement already satisfied: urllib3<3,>=1.21.1 in /usr/local/lib/python3.12/dist-packages (from requests->mnist1d==0.0.2.post16) (2.5.0)\n",
            "Requirement already satisfied: certifi>=2017.4.17 in /usr/local/lib/python3.12/dist-packages (from requests->mnist1d==0.0.2.post16) (2025.10.5)\n",
            "Requirement already satisfied: six>=1.5 in /usr/local/lib/python3.12/dist-packages (from python-dateutil>=2.7->matplotlib->mnist1d==0.0.2.post16) (1.17.0)\n",
            "Building wheels for collected packages: mnist1d\n",
            "  Building wheel for mnist1d (pyproject.toml) ... \u001b[?25l\u001b[?25hdone\n",
            "  Created wheel for mnist1d: filename=mnist1d-0.0.2.post16-py3-none-any.whl size=14665 sha256=6066fdbc1dcce282f722927d3830393a28175600be6dac12a640f065d0886315\n",
            "  Stored in directory: /tmp/pip-ephem-wheel-cache-b78j6z8h/wheels/18/40/b6/29381fee9b4c80fdbc304d52bb065a7286bbcca5ca2b8737c0\n",
            "Successfully built mnist1d\n",
            "Installing collected packages: mnist1d\n",
            "Successfully installed mnist1d-0.0.2.post16\n"
          ]
        }
      ]
    },
    {
      "cell_type": "code",
      "source": [
        "import numpy as np\n",
        "import os\n",
        "import torch, torch.nn as nn\n",
        "from torch.utils.data import TensorDataset, DataLoader\n",
        "from torch.optim.lr_scheduler import StepLR\n",
        "import matplotlib.pyplot as plt\n",
        "import mnist1d\n",
        "import random"
      ],
      "metadata": {
        "id": "YrXWAH7sUWvU"
      },
      "execution_count": 2,
      "outputs": []
    },
    {
      "cell_type": "code",
      "source": [
        "args = mnist1d.data.get_dataset_args()\n",
        "data = mnist1d.data.get_dataset(args, path='./mnist1d_data.pkl', download=False, regenerate=False)\n",
        "\n",
        "# The training and test input and outputs are in\n",
        "# data['x'], data['y'], data['x_test'], and data['y_test']\n",
        "print(\"Examples in training set: {}\".format(len(data['y'])))\n",
        "print(\"Examples in test set: {}\".format(len(data['y_test'])))\n",
        "print(\"Length of each example: {}\".format(data['x'].shape[-1]))"
      ],
      "metadata": {
        "id": "twI72ZCrCt5z",
        "colab": {
          "base_uri": "https://localhost:8080/"
        },
        "outputId": "febdde2e-dbfc-424e-dbde-41a98a4a1d1a"
      },
      "execution_count": 3,
      "outputs": [
        {
          "output_type": "stream",
          "name": "stdout",
          "text": [
            "Did or could not load data from ./mnist1d_data.pkl. Rebuilding dataset...\n",
            "Examples in training set: 4000\n",
            "Examples in test set: 1000\n",
            "Length of each example: 40\n"
          ]
        }
      ]
    },
    {
      "cell_type": "code",
      "source": [
        "# Load in the data\n",
        "train_data_x = data['x'].transpose()\n",
        "train_data_y = data['y']\n",
        "val_data_x = data['x_test'].transpose()\n",
        "val_data_y = data['y_test']\n",
        "# Print out sizes\n",
        "print(\"Train data: %d examples (columns), each of which has %d dimensions (rows)\"%((train_data_x.shape[1],train_data_x.shape[0])))\n",
        "print(\"Validation data: %d examples (columns), each of which has %d dimensions (rows)\"%((val_data_x.shape[1],val_data_x.shape[0])))"
      ],
      "metadata": {
        "id": "8bKADvLHbiV5",
        "colab": {
          "base_uri": "https://localhost:8080/"
        },
        "outputId": "5c437f6a-7308-443b-c8a9-b1cd86300e26"
      },
      "execution_count": 4,
      "outputs": [
        {
          "output_type": "stream",
          "name": "stdout",
          "text": [
            "Train data: 4000 examples (columns), each of which has 40 dimensions (rows)\n",
            "Validation data: 1000 examples (columns), each of which has 40 dimensions (rows)\n"
          ]
        }
      ]
    },
    {
      "cell_type": "markdown",
      "source": [
        "Define the network"
      ],
      "metadata": {
        "id": "_sFvRDGrl4qe"
      }
    },
    {
      "cell_type": "code",
      "source": [
        "# There are 40 input dimensions and 10 output dimensions for this data\n",
        "# The inputs correspond to the 40 offsets in the MNIST1D template.\n",
        "D_i = 40\n",
        "# The outputs correspond to the 10 digits\n",
        "D_o = 10\n",
        "\n",
        "\n",
        "# TODO Create a model with the following layers\n",
        "# 1. Convolutional layer, (input=length 40 and 1 channel, kernel size 3, stride 2, padding=\"valid\", 15 output channels )\n",
        "# 2. ReLU\n",
        "# 3. Convolutional layer, (input=length 19 and 15 channels, kernel size 3, stride 2, padding=\"valid\", 15 output channels )\n",
        "# 4. ReLU\n",
        "# 5. Convolutional layer, (input=length 9 and 15 channels, kernel size 3, stride 2, padding=\"valid\", 15 output channels)\n",
        "# 6. ReLU\n",
        "# 7. Flatten (converts 4x15) to length 60\n",
        "# 8. Linear layer (input size = 60, output size = 10)\n",
        "# References:\n",
        "# https://pytorch.org/docs/1.13/generated/torch.nn.Conv1d.html?highlight=conv1d#torch.nn.Conv1d\n",
        "# https://pytorch.org/docs/stable/generated/torch.nn.Flatten.html\n",
        "# https://pytorch.org/docs/1.13/generated/torch.nn.Linear.html?highlight=linear#torch.nn.Linear\n",
        "\n",
        "# NOTE THAT THE CONVOLUTIONAL LAYERS NEED TO TAKE THE NUMBER OF INPUT CHANNELS AS A PARAMETER\n",
        "# AND NOT THE INPUT SIZE.\n",
        "\n",
        "# Replace the following function:\n",
        "model = nn.Sequential(\n",
        "    nn.Conv1d(in_channels=1, out_channels=15, kernel_size=3, stride=2, padding=\"valid\"),\n",
        "    nn.ReLU(),\n",
        "    nn.Conv1d(in_channels=15, out_channels=15, kernel_size=3, stride=2, padding=\"valid\"),\n",
        "    nn.ReLU(),\n",
        "    nn.Conv1d(in_channels=15, out_channels=15, kernel_size=3, stride=2, padding=\"valid\"),\n",
        "    nn.ReLU(),\n",
        "    nn.Flatten(),\n",
        "    nn.Linear(60, D_o)\n",
        ")"
      ],
      "metadata": {
        "id": "FslroPJJffrh"
      },
      "execution_count": 5,
      "outputs": []
    },
    {
      "cell_type": "code",
      "source": [
        "# He initialization of weights\n",
        "def weights_init(layer_in):\n",
        "  if isinstance(layer_in, nn.Linear):\n",
        "    nn.init.kaiming_uniform_(layer_in.weight)\n",
        "    layer_in.bias.data.fill_(0.0)"
      ],
      "metadata": {
        "id": "YgLaex1pfhqz"
      },
      "execution_count": 6,
      "outputs": []
    },
    {
      "cell_type": "code",
      "source": [
        "# choose cross entropy loss function (equation 5.24 in the loss notes)\n",
        "loss_function = nn.CrossEntropyLoss()\n",
        "# construct SGD optimizer and initialize learning rate and momentum\n",
        "optimizer = torch.optim.SGD(model.parameters(), lr = 0.05, momentum=0.9)\n",
        "# object that decreases learning rate by half every 20 epochs\n",
        "scheduler = StepLR(optimizer, step_size=20, gamma=0.5)\n",
        "# create 100 dummy data points and store in data loader class\n",
        "x_train = torch.tensor(train_data_x.transpose().astype('float32'))\n",
        "y_train = torch.tensor(train_data_y.astype('long')).long()\n",
        "x_val= torch.tensor(val_data_x.transpose().astype('float32'))\n",
        "y_val = torch.tensor(val_data_y.astype('long')).long()\n",
        "\n",
        "# load the data into a class that creates the batches\n",
        "data_loader = DataLoader(TensorDataset(x_train,y_train), batch_size=100, shuffle=True, worker_init_fn=np.random.seed(1))\n",
        "\n",
        "# Initialize model weights\n",
        "model.apply(weights_init)\n",
        "\n",
        "# loop over the dataset n_epoch times\n",
        "n_epoch = 100\n",
        "# store the loss and the % correct at each epoch\n",
        "losses_train = np.zeros((n_epoch))\n",
        "errors_train = np.zeros((n_epoch))\n",
        "losses_val = np.zeros((n_epoch))\n",
        "errors_val = np.zeros((n_epoch))\n",
        "\n",
        "for epoch in range(n_epoch):\n",
        "  # loop over batches\n",
        "  for i, data in enumerate(data_loader):\n",
        "    # retrieve inputs and labels for this batch\n",
        "    x_batch, y_batch = data\n",
        "    # zero the parameter gradients\n",
        "    optimizer.zero_grad()\n",
        "    # forward pass -- calculate model output\n",
        "    pred = model(x_batch[:,None,:])\n",
        "    # compute the loss\n",
        "    loss = loss_function(pred, y_batch)\n",
        "    # backward pass\n",
        "    loss.backward()\n",
        "    # SGD update\n",
        "    optimizer.step()\n",
        "\n",
        "  # Run whole dataset to get statistics -- normally wouldn't do this\n",
        "  pred_train = model(x_train[:,None,:])\n",
        "  pred_val = model(x_val[:,None,:])\n",
        "  _, predicted_train_class = torch.max(pred_train.data, 1)\n",
        "  _, predicted_val_class = torch.max(pred_val.data, 1)\n",
        "  errors_train[epoch] = 100 - 100 * (predicted_train_class == y_train).float().sum() / len(y_train)\n",
        "  errors_val[epoch]= 100 - 100 * (predicted_val_class == y_val).float().sum() / len(y_val)\n",
        "  losses_train[epoch] = loss_function(pred_train, y_train).item()\n",
        "  losses_val[epoch]= loss_function(pred_val, y_val).item()\n",
        "  print(f'Epoch {epoch:5d}, train loss {losses_train[epoch]:.6f}, train error {errors_train[epoch]:3.2f},  val loss {losses_val[epoch]:.6f}, percent error {errors_val[epoch]:3.2f}')\n",
        "\n",
        "  # tell scheduler to consider updating learning rate\n",
        "  scheduler.step()\n",
        "\n",
        "# Plot the results\n",
        "fig, ax = plt.subplots()\n",
        "ax.plot(errors_train,'r-',label='train')\n",
        "ax.plot(errors_val,'b-',label='validation')\n",
        "ax.set_ylim(0,100); ax.set_xlim(0,n_epoch)\n",
        "ax.set_xlabel('Epoch'); ax.set_ylabel('Error')\n",
        "ax.set_title('Part I: Validation Result %3.2f'%(errors_val[-1]))\n",
        "ax.legend()\n",
        "plt.show()"
      ],
      "metadata": {
        "id": "NYw8I_3mmX5c",
        "colab": {
          "base_uri": "https://localhost:8080/",
          "height": 1000
        },
        "outputId": "91519d1b-8b5d-469d-fde5-cc65344362dc"
      },
      "execution_count": 7,
      "outputs": [
        {
          "output_type": "stream",
          "name": "stdout",
          "text": [
            "Epoch     0, train loss 2.049418, train error 79.38,  val loss 2.048124, percent error 79.60\n",
            "Epoch     1, train loss 1.573943, train error 63.50,  val loss 1.590371, percent error 64.10\n",
            "Epoch     2, train loss 1.396289, train error 57.83,  val loss 1.408714, percent error 60.20\n",
            "Epoch     3, train loss 1.319845, train error 53.40,  val loss 1.327999, percent error 54.50\n",
            "Epoch     4, train loss 1.261516, train error 53.28,  val loss 1.256372, percent error 53.30\n",
            "Epoch     5, train loss 1.208578, train error 49.28,  val loss 1.201266, percent error 50.60\n",
            "Epoch     6, train loss 1.130646, train error 46.25,  val loss 1.151136, percent error 47.00\n",
            "Epoch     7, train loss 1.046191, train error 41.70,  val loss 1.057827, percent error 42.40\n",
            "Epoch     8, train loss 0.932303, train error 37.10,  val loss 0.982231, percent error 41.00\n",
            "Epoch     9, train loss 1.002719, train error 38.70,  val loss 1.039390, percent error 40.50\n",
            "Epoch    10, train loss 0.750142, train error 28.55,  val loss 0.808885, percent error 32.10\n",
            "Epoch    11, train loss 0.659869, train error 25.50,  val loss 0.720121, percent error 29.10\n",
            "Epoch    12, train loss 0.695835, train error 27.47,  val loss 0.805376, percent error 31.10\n",
            "Epoch    13, train loss 0.510884, train error 19.43,  val loss 0.571651, percent error 22.70\n",
            "Epoch    14, train loss 0.426794, train error 15.05,  val loss 0.511264, percent error 20.00\n",
            "Epoch    15, train loss 0.447867, train error 16.68,  val loss 0.520093, percent error 19.30\n",
            "Epoch    16, train loss 0.394815, train error 15.53,  val loss 0.497433, percent error 19.20\n",
            "Epoch    17, train loss 0.358280, train error 13.88,  val loss 0.491333, percent error 17.70\n",
            "Epoch    18, train loss 0.341964, train error 11.97,  val loss 0.494031, percent error 17.80\n",
            "Epoch    19, train loss 0.307586, train error 11.38,  val loss 0.426232, percent error 16.60\n",
            "Epoch    20, train loss 0.258332, train error 9.18,  val loss 0.386140, percent error 14.10\n",
            "Epoch    21, train loss 0.233389, train error 8.35,  val loss 0.376284, percent error 13.50\n",
            "Epoch    22, train loss 0.229559, train error 8.35,  val loss 0.401830, percent error 13.90\n",
            "Epoch    23, train loss 0.211116, train error 7.75,  val loss 0.385016, percent error 13.30\n",
            "Epoch    24, train loss 0.220267, train error 7.78,  val loss 0.391597, percent error 13.00\n",
            "Epoch    25, train loss 0.213513, train error 7.62,  val loss 0.415716, percent error 14.00\n",
            "Epoch    26, train loss 0.207537, train error 7.25,  val loss 0.397967, percent error 12.80\n",
            "Epoch    27, train loss 0.198239, train error 7.12,  val loss 0.384011, percent error 12.30\n",
            "Epoch    28, train loss 0.180887, train error 6.60,  val loss 0.378190, percent error 12.70\n",
            "Epoch    29, train loss 0.180425, train error 6.18,  val loss 0.364205, percent error 12.10\n",
            "Epoch    30, train loss 0.170684, train error 6.00,  val loss 0.379998, percent error 11.90\n",
            "Epoch    31, train loss 0.157965, train error 5.38,  val loss 0.356283, percent error 11.80\n",
            "Epoch    32, train loss 0.161846, train error 6.03,  val loss 0.383119, percent error 12.10\n",
            "Epoch    33, train loss 0.148180, train error 5.05,  val loss 0.362449, percent error 12.00\n",
            "Epoch    34, train loss 0.138148, train error 5.00,  val loss 0.357398, percent error 11.50\n",
            "Epoch    35, train loss 0.143558, train error 5.32,  val loss 0.386556, percent error 12.40\n",
            "Epoch    36, train loss 0.148160, train error 5.50,  val loss 0.369996, percent error 12.80\n",
            "Epoch    37, train loss 0.119284, train error 3.57,  val loss 0.356666, percent error 11.70\n",
            "Epoch    38, train loss 0.115592, train error 3.53,  val loss 0.362634, percent error 11.30\n",
            "Epoch    39, train loss 0.126165, train error 3.90,  val loss 0.358727, percent error 11.80\n",
            "Epoch    40, train loss 0.115284, train error 3.97,  val loss 0.353202, percent error 12.20\n",
            "Epoch    41, train loss 0.099481, train error 3.10,  val loss 0.346393, percent error 11.10\n",
            "Epoch    42, train loss 0.096970, train error 2.70,  val loss 0.347234, percent error 11.20\n",
            "Epoch    43, train loss 0.091685, train error 2.53,  val loss 0.345918, percent error 11.00\n",
            "Epoch    44, train loss 0.100181, train error 3.20,  val loss 0.350924, percent error 10.80\n",
            "Epoch    45, train loss 0.089172, train error 2.55,  val loss 0.348788, percent error 10.70\n",
            "Epoch    46, train loss 0.089133, train error 2.53,  val loss 0.355145, percent error 11.10\n",
            "Epoch    47, train loss 0.091166, train error 2.55,  val loss 0.353831, percent error 11.10\n",
            "Epoch    48, train loss 0.097979, train error 3.12,  val loss 0.373724, percent error 11.10\n",
            "Epoch    49, train loss 0.087024, train error 2.35,  val loss 0.360918, percent error 11.50\n",
            "Epoch    50, train loss 0.086210, train error 2.57,  val loss 0.360090, percent error 10.90\n",
            "Epoch    51, train loss 0.091872, train error 2.88,  val loss 0.375440, percent error 12.20\n",
            "Epoch    52, train loss 0.090174, train error 2.93,  val loss 0.363319, percent error 10.30\n",
            "Epoch    53, train loss 0.077492, train error 1.97,  val loss 0.354968, percent error 11.00\n",
            "Epoch    54, train loss 0.076579, train error 2.10,  val loss 0.349429, percent error 10.90\n",
            "Epoch    55, train loss 0.079361, train error 2.45,  val loss 0.367662, percent error 11.50\n",
            "Epoch    56, train loss 0.076913, train error 2.22,  val loss 0.373323, percent error 11.00\n",
            "Epoch    57, train loss 0.073352, train error 2.03,  val loss 0.350863, percent error 10.80\n",
            "Epoch    58, train loss 0.069805, train error 1.97,  val loss 0.363304, percent error 10.60\n",
            "Epoch    59, train loss 0.068873, train error 2.03,  val loss 0.368309, percent error 11.00\n",
            "Epoch    60, train loss 0.064316, train error 1.80,  val loss 0.357621, percent error 10.90\n",
            "Epoch    61, train loss 0.063545, train error 1.72,  val loss 0.359166, percent error 11.00\n",
            "Epoch    62, train loss 0.062635, train error 1.60,  val loss 0.359937, percent error 10.70\n",
            "Epoch    63, train loss 0.061123, train error 1.53,  val loss 0.366749, percent error 10.80\n",
            "Epoch    64, train loss 0.062183, train error 1.50,  val loss 0.366692, percent error 10.60\n",
            "Epoch    65, train loss 0.062312, train error 1.70,  val loss 0.367935, percent error 10.90\n",
            "Epoch    66, train loss 0.063140, train error 1.68,  val loss 0.375135, percent error 10.60\n",
            "Epoch    67, train loss 0.061377, train error 1.60,  val loss 0.379600, percent error 11.40\n",
            "Epoch    68, train loss 0.058468, train error 1.35,  val loss 0.373369, percent error 11.10\n",
            "Epoch    69, train loss 0.060503, train error 1.62,  val loss 0.375093, percent error 10.80\n",
            "Epoch    70, train loss 0.057655, train error 1.53,  val loss 0.375770, percent error 11.10\n",
            "Epoch    71, train loss 0.057314, train error 1.43,  val loss 0.378868, percent error 11.10\n",
            "Epoch    72, train loss 0.055602, train error 1.35,  val loss 0.368525, percent error 11.00\n",
            "Epoch    73, train loss 0.055371, train error 1.35,  val loss 0.372111, percent error 10.70\n",
            "Epoch    74, train loss 0.056391, train error 1.43,  val loss 0.381164, percent error 11.00\n",
            "Epoch    75, train loss 0.054656, train error 1.43,  val loss 0.379352, percent error 10.50\n",
            "Epoch    76, train loss 0.054850, train error 1.32,  val loss 0.380928, percent error 10.70\n",
            "Epoch    77, train loss 0.054263, train error 1.22,  val loss 0.381039, percent error 10.70\n",
            "Epoch    78, train loss 0.056198, train error 1.40,  val loss 0.387468, percent error 11.10\n",
            "Epoch    79, train loss 0.052754, train error 1.28,  val loss 0.372353, percent error 10.50\n",
            "Epoch    80, train loss 0.051336, train error 1.10,  val loss 0.375390, percent error 10.40\n",
            "Epoch    81, train loss 0.051002, train error 1.18,  val loss 0.378524, percent error 10.50\n",
            "Epoch    82, train loss 0.051222, train error 1.18,  val loss 0.377082, percent error 10.40\n",
            "Epoch    83, train loss 0.051341, train error 1.20,  val loss 0.385863, percent error 10.70\n",
            "Epoch    84, train loss 0.050202, train error 1.07,  val loss 0.379636, percent error 10.50\n",
            "Epoch    85, train loss 0.050256, train error 1.12,  val loss 0.383100, percent error 10.80\n",
            "Epoch    86, train loss 0.049932, train error 1.07,  val loss 0.381938, percent error 10.20\n",
            "Epoch    87, train loss 0.049992, train error 1.10,  val loss 0.385722, percent error 10.70\n",
            "Epoch    88, train loss 0.049478, train error 1.10,  val loss 0.383905, percent error 10.30\n",
            "Epoch    89, train loss 0.049638, train error 1.12,  val loss 0.383949, percent error 10.40\n",
            "Epoch    90, train loss 0.048651, train error 1.12,  val loss 0.384105, percent error 10.50\n",
            "Epoch    91, train loss 0.049098, train error 1.10,  val loss 0.388763, percent error 10.80\n",
            "Epoch    92, train loss 0.049793, train error 1.15,  val loss 0.389854, percent error 10.70\n",
            "Epoch    93, train loss 0.048588, train error 1.15,  val loss 0.389592, percent error 10.70\n",
            "Epoch    94, train loss 0.048483, train error 1.10,  val loss 0.390292, percent error 10.60\n",
            "Epoch    95, train loss 0.047520, train error 1.05,  val loss 0.385438, percent error 10.60\n",
            "Epoch    96, train loss 0.048150, train error 1.05,  val loss 0.388877, percent error 10.70\n",
            "Epoch    97, train loss 0.047581, train error 1.05,  val loss 0.385866, percent error 10.30\n",
            "Epoch    98, train loss 0.046797, train error 0.97,  val loss 0.391326, percent error 10.40\n",
            "Epoch    99, train loss 0.046790, train error 1.07,  val loss 0.395316, percent error 10.70\n"
          ]
        },
        {
          "output_type": "display_data",
          "data": {
            "text/plain": [
              "<Figure size 640x480 with 1 Axes>"
            ],
            "image/png": "[encoded data removed]"
          },
          "metadata": {}
        }
      ]
    },
    {
      "cell_type": "code",
      "source": [],
      "metadata": {
        "id": "3M2B7UbTMBeV"
      },
      "execution_count": null,
      "outputs": []
    }
  ]
}